{
 "cells": [
  {
   "cell_type": "code",
   "execution_count": 1,
   "metadata": {
    "colab": {
     "base_uri": "https://localhost:8080/"
    },
    "executionInfo": {
     "elapsed": 23,
     "status": "ok",
     "timestamp": 1701918213223,
     "user": {
      "displayName": "Eshan Bhargava",
      "userId": "11618991347122399879"
     },
     "user_tz": 480
    },
    "id": "v9ocT-pzbZfi",
    "outputId": "deb9fc6d-38cb-486c-de0d-77871e3a4135"
   },
   "outputs": [
    {
     "name": "stdout",
     "output_type": "stream",
     "text": [
      "Fri Dec  8 10:16:15 2023       \n",
      "+-----------------------------------------------------------------------------+\n",
      "| NVIDIA-SMI 516.91       Driver Version: 516.91       CUDA Version: 11.7     |\n",
      "|-------------------------------+----------------------+----------------------+\n",
      "| GPU  Name            TCC/WDDM | Bus-Id        Disp.A | Volatile Uncorr. ECC |\n",
      "| Fan  Temp  Perf  Pwr:Usage/Cap|         Memory-Usage | GPU-Util  Compute M. |\n",
      "|                               |                      |               MIG M. |\n",
      "|===============================+======================+======================|\n",
      "|   0  NVIDIA GeForce ... WDDM  | 00000000:01:00.0 Off |                  N/A |\n",
      "| N/A   49C    P8    11W /  N/A |   1044MiB /  8192MiB |      0%      Default |\n",
      "|                               |                      |                  N/A |\n",
      "+-------------------------------+----------------------+----------------------+\n",
      "                                                                               \n",
      "+-----------------------------------------------------------------------------+\n",
      "| Processes:                                                                  |\n",
      "|  GPU   GI   CI        PID   Type   Process name                  GPU Memory |\n",
      "|        ID   ID                                                   Usage      |\n",
      "|=============================================================================|\n",
      "|    0   N/A  N/A     27672      C   ...conda3\\envs\\ml\\python.exe    N/A      |\n",
      "+-----------------------------------------------------------------------------+\n"
     ]
    }
   ],
   "source": [
    "!nvidia-smi"
   ]
  },
  {
   "cell_type": "markdown",
   "metadata": {
    "id": "_w9QXL8zbYjk"
   },
   "source": [
    "Preprocessing"
   ]
  },
  {
   "cell_type": "code",
   "execution_count": 2,
   "metadata": {
    "executionInfo": {
     "elapsed": 3689,
     "status": "ok",
     "timestamp": 1701919089245,
     "user": {
      "displayName": "Eshan Bhargava",
      "userId": "11618991347122399879"
     },
     "user_tz": 480
    },
    "id": "ouP0X5odPs12"
   },
   "outputs": [],
   "source": [
    "#Imports\n",
    "import numpy as np\n",
    "import pandas as pd\n",
    "import torch\n",
    "\n",
    "import matplotlib.pyplot as plt\n",
    "import seaborn as sns\n",
    "\n",
    "from sklearn.metrics import accuracy_score, precision_score, recall_score, f1_score"
   ]
  },
  {
   "cell_type": "code",
   "execution_count": 3,
   "metadata": {
    "executionInfo": {
     "elapsed": 7551,
     "status": "ok",
     "timestamp": 1701920443769,
     "user": {
      "displayName": "Eshan Bhargava",
      "userId": "11618991347122399879"
     },
     "user_tz": 480
    },
    "id": "vpFeEXEcQRSg"
   },
   "outputs": [],
   "source": [
    "#Import data\n",
    "metadata = pd.read_csv('./application_metadata.csv')"
   ]
  },
  {
   "cell_type": "code",
   "execution_count": 4,
   "metadata": {
    "colab": {
     "base_uri": "https://localhost:8080/"
    },
    "executionInfo": {
     "elapsed": 4,
     "status": "ok",
     "timestamp": 1701920451885,
     "user": {
      "displayName": "Eshan Bhargava",
      "userId": "11618991347122399879"
     },
     "user_tz": 480
    },
    "id": "ucLsS5w0STHg",
    "outputId": "53c52d3a-7e0e-459a-a915-6100ff42a7fc"
   },
   "outputs": [
    {
     "data": {
      "text/plain": [
       "status\n",
       "ISS     3139764\n",
       "ABN      977521\n",
       "PEND     798795\n",
       "Name: count, dtype: int64"
      ]
     },
     "execution_count": 4,
     "metadata": {},
     "output_type": "execute_result"
    }
   ],
   "source": [
    "metadata['status'].value_counts()"
   ]
  },
  {
   "cell_type": "code",
   "execution_count": 5,
   "metadata": {
    "executionInfo": {
     "elapsed": 4,
     "status": "ok",
     "timestamp": 1701920456100,
     "user": {
      "displayName": "Eshan Bhargava",
      "userId": "11618991347122399879"
     },
     "user_tz": 480
    },
    "id": "LrCtiT6PSZ7Q"
   },
   "outputs": [],
   "source": [
    "#Removing pending patents\n",
    "metadata = metadata[metadata['status'] != 'PEND']"
   ]
  },
  {
   "cell_type": "code",
   "execution_count": 6,
   "metadata": {
    "colab": {
     "base_uri": "https://localhost:8080/"
    },
    "executionInfo": {
     "elapsed": 518,
     "status": "ok",
     "timestamp": 1701920459313,
     "user": {
      "displayName": "Eshan Bhargava",
      "userId": "11618991347122399879"
     },
     "user_tz": 480
    },
    "id": "RhIzv8SmSg1m",
    "outputId": "e4b67553-53dd-4805-b360-e5118913c97d"
   },
   "outputs": [
    {
     "data": {
      "text/plain": [
       "status\n",
       "ISS    3139764\n",
       "ABN     977521\n",
       "Name: count, dtype: int64"
      ]
     },
     "execution_count": 6,
     "metadata": {},
     "output_type": "execute_result"
    }
   ],
   "source": [
    "metadata['status'].value_counts()"
   ]
  },
  {
   "cell_type": "code",
   "execution_count": 7,
   "metadata": {
    "colab": {
     "base_uri": "https://localhost:8080/"
    },
    "executionInfo": {
     "elapsed": 4,
     "status": "ok",
     "timestamp": 1701920459817,
     "user": {
      "displayName": "Eshan Bhargava",
      "userId": "11618991347122399879"
     },
     "user_tz": 480
    },
    "id": "FY8QKwviQX2Z",
    "outputId": "91af3cc9-775d-4981-b19b-1eae52c40ac7"
   },
   "outputs": [
    {
     "name": "stdout",
     "output_type": "stream",
     "text": [
      "<class 'pandas.core.frame.DataFrame'>\n",
      "Index: 4117285 entries, 0 to 4915887\n",
      "Data columns (total 8 columns):\n",
      " #   Column                    Dtype  \n",
      "---  ------                    -----  \n",
      " 0   doc-id                    int64  \n",
      " 1   examiner_experience       int64  \n",
      " 2   examiner_allowance_ratio  float64\n",
      " 3   class_saturation          int64  \n",
      " 4   subclass_saturation       int64  \n",
      " 5   customer_experience       int64  \n",
      " 6   customer_success_ratio    float64\n",
      " 7   status                    object \n",
      "dtypes: float64(2), int64(5), object(1)\n",
      "memory usage: 282.7+ MB\n"
     ]
    }
   ],
   "source": [
    "metadata.info()"
   ]
  },
  {
   "cell_type": "code",
   "execution_count": 8,
   "metadata": {
    "colab": {
     "base_uri": "https://localhost:8080/",
     "height": 320
    },
    "executionInfo": {
     "elapsed": 1335,
     "status": "ok",
     "timestamp": 1701920462182,
     "user": {
      "displayName": "Eshan Bhargava",
      "userId": "11618991347122399879"
     },
     "user_tz": 480
    },
    "id": "y-utl4tSQ2zC",
    "outputId": "d46c98e7-667c-460a-8607-e3ca25122a40"
   },
   "outputs": [
    {
     "data": {
      "text/html": [
       "<div>\n",
       "<style scoped>\n",
       "    .dataframe tbody tr th:only-of-type {\n",
       "        vertical-align: middle;\n",
       "    }\n",
       "\n",
       "    .dataframe tbody tr th {\n",
       "        vertical-align: top;\n",
       "    }\n",
       "\n",
       "    .dataframe thead th {\n",
       "        text-align: right;\n",
       "    }\n",
       "</style>\n",
       "<table border=\"1\" class=\"dataframe\">\n",
       "  <thead>\n",
       "    <tr style=\"text-align: right;\">\n",
       "      <th></th>\n",
       "      <th>doc-id</th>\n",
       "      <th>examiner_experience</th>\n",
       "      <th>examiner_allowance_ratio</th>\n",
       "      <th>class_saturation</th>\n",
       "      <th>subclass_saturation</th>\n",
       "      <th>customer_experience</th>\n",
       "      <th>customer_success_ratio</th>\n",
       "    </tr>\n",
       "  </thead>\n",
       "  <tbody>\n",
       "    <tr>\n",
       "      <th>count</th>\n",
       "      <td>4.117285e+06</td>\n",
       "      <td>4.117285e+06</td>\n",
       "      <td>4.117285e+06</td>\n",
       "      <td>4.117285e+06</td>\n",
       "      <td>4.117285e+06</td>\n",
       "      <td>4.117285e+06</td>\n",
       "      <td>4.117285e+06</td>\n",
       "    </tr>\n",
       "    <tr>\n",
       "      <th>mean</th>\n",
       "      <td>1.234501e+07</td>\n",
       "      <td>5.029763e+02</td>\n",
       "      <td>7.643155e-01</td>\n",
       "      <td>1.675307e+04</td>\n",
       "      <td>2.954730e+03</td>\n",
       "      <td>5.029763e+02</td>\n",
       "      <td>7.643155e-01</td>\n",
       "    </tr>\n",
       "    <tr>\n",
       "      <th>std</th>\n",
       "      <td>5.607356e+06</td>\n",
       "      <td>1.320641e+03</td>\n",
       "      <td>2.228962e-01</td>\n",
       "      <td>2.099201e+04</td>\n",
       "      <td>3.829545e+03</td>\n",
       "      <td>1.320641e+03</td>\n",
       "      <td>2.228962e-01</td>\n",
       "    </tr>\n",
       "    <tr>\n",
       "      <th>min</th>\n",
       "      <td>2.618355e+06</td>\n",
       "      <td>0.000000e+00</td>\n",
       "      <td>0.000000e+00</td>\n",
       "      <td>0.000000e+00</td>\n",
       "      <td>0.000000e+00</td>\n",
       "      <td>0.000000e+00</td>\n",
       "      <td>0.000000e+00</td>\n",
       "    </tr>\n",
       "    <tr>\n",
       "      <th>25%</th>\n",
       "      <td>1.010214e+07</td>\n",
       "      <td>1.030000e+02</td>\n",
       "      <td>6.315789e-01</td>\n",
       "      <td>2.936000e+03</td>\n",
       "      <td>4.590000e+02</td>\n",
       "      <td>1.030000e+02</td>\n",
       "      <td>6.315789e-01</td>\n",
       "    </tr>\n",
       "    <tr>\n",
       "      <th>50%</th>\n",
       "      <td>1.140475e+07</td>\n",
       "      <td>2.630000e+02</td>\n",
       "      <td>8.390142e-01</td>\n",
       "      <td>8.520000e+03</td>\n",
       "      <td>1.750000e+03</td>\n",
       "      <td>2.630000e+02</td>\n",
       "      <td>8.390142e-01</td>\n",
       "    </tr>\n",
       "    <tr>\n",
       "      <th>75%</th>\n",
       "      <td>1.262732e+07</td>\n",
       "      <td>5.720000e+02</td>\n",
       "      <td>9.437908e-01</td>\n",
       "      <td>2.127600e+04</td>\n",
       "      <td>4.032000e+03</td>\n",
       "      <td>5.720000e+02</td>\n",
       "      <td>9.437908e-01</td>\n",
       "    </tr>\n",
       "    <tr>\n",
       "      <th>max</th>\n",
       "      <td>9.603000e+07</td>\n",
       "      <td>2.694000e+04</td>\n",
       "      <td>1.000000e+00</td>\n",
       "      <td>1.255260e+05</td>\n",
       "      <td>3.846600e+04</td>\n",
       "      <td>2.694000e+04</td>\n",
       "      <td>1.000000e+00</td>\n",
       "    </tr>\n",
       "  </tbody>\n",
       "</table>\n",
       "</div>"
      ],
      "text/plain": [
       "             doc-id  examiner_experience  examiner_allowance_ratio  \\\n",
       "count  4.117285e+06         4.117285e+06              4.117285e+06   \n",
       "mean   1.234501e+07         5.029763e+02              7.643155e-01   \n",
       "std    5.607356e+06         1.320641e+03              2.228962e-01   \n",
       "min    2.618355e+06         0.000000e+00              0.000000e+00   \n",
       "25%    1.010214e+07         1.030000e+02              6.315789e-01   \n",
       "50%    1.140475e+07         2.630000e+02              8.390142e-01   \n",
       "75%    1.262732e+07         5.720000e+02              9.437908e-01   \n",
       "max    9.603000e+07         2.694000e+04              1.000000e+00   \n",
       "\n",
       "       class_saturation  subclass_saturation  customer_experience  \\\n",
       "count      4.117285e+06         4.117285e+06         4.117285e+06   \n",
       "mean       1.675307e+04         2.954730e+03         5.029763e+02   \n",
       "std        2.099201e+04         3.829545e+03         1.320641e+03   \n",
       "min        0.000000e+00         0.000000e+00         0.000000e+00   \n",
       "25%        2.936000e+03         4.590000e+02         1.030000e+02   \n",
       "50%        8.520000e+03         1.750000e+03         2.630000e+02   \n",
       "75%        2.127600e+04         4.032000e+03         5.720000e+02   \n",
       "max        1.255260e+05         3.846600e+04         2.694000e+04   \n",
       "\n",
       "       customer_success_ratio  \n",
       "count            4.117285e+06  \n",
       "mean             7.643155e-01  \n",
       "std              2.228962e-01  \n",
       "min              0.000000e+00  \n",
       "25%              6.315789e-01  \n",
       "50%              8.390142e-01  \n",
       "75%              9.437908e-01  \n",
       "max              1.000000e+00  "
      ]
     },
     "execution_count": 8,
     "metadata": {},
     "output_type": "execute_result"
    }
   ],
   "source": [
    "metadata.describe()"
   ]
  },
  {
   "cell_type": "code",
   "execution_count": 9,
   "metadata": {
    "executionInfo": {
     "elapsed": 15,
     "status": "ok",
     "timestamp": 1701920462183,
     "user": {
      "displayName": "Eshan Bhargava",
      "userId": "11618991347122399879"
     },
     "user_tz": 480
    },
    "id": "jXWBV28PTCzr"
   },
   "outputs": [],
   "source": [
    "#Data seems to be skewed by earlier results. Taking only last ~1,000,000\n",
    "metadata = metadata[3000000:]"
   ]
  },
  {
   "cell_type": "code",
   "execution_count": 10,
   "metadata": {
    "colab": {
     "base_uri": "https://localhost:8080/"
    },
    "executionInfo": {
     "elapsed": 14,
     "status": "ok",
     "timestamp": 1701920462184,
     "user": {
      "displayName": "Eshan Bhargava",
      "userId": "11618991347122399879"
     },
     "user_tz": 480
    },
    "id": "coW8ILL9V-z4",
    "outputId": "870d7d6b-37ad-46cc-d932-3a8903af9109"
   },
   "outputs": [
    {
     "data": {
      "text/plain": [
       "status\n",
       "1    844069\n",
       "0    273216\n",
       "Name: count, dtype: int64"
      ]
     },
     "execution_count": 10,
     "metadata": {},
     "output_type": "execute_result"
    }
   ],
   "source": [
    "#Encoding target feature\n",
    "metadata['status'] = metadata['status'].replace({'ISS': 1, 'ABN': 0})\n",
    "metadata['status'].value_counts()"
   ]
  },
  {
   "cell_type": "code",
   "execution_count": 13,
   "metadata": {
    "executionInfo": {
     "elapsed": 6,
     "status": "ok",
     "timestamp": 1701920463281,
     "user": {
      "displayName": "Eshan Bhargava",
      "userId": "11618991347122399879"
     },
     "user_tz": 480
    },
    "id": "zeKQAaX5T33W"
   },
   "outputs": [],
   "source": [
    "#Splitting into train and test (not shuffling to keep data sequential)\n",
    "from sklearn.model_selection import train_test_split\n",
    "\n",
    "X = metadata.drop(['status', 'doc-id'], axis=1)\n",
    "y = metadata['status']\n",
    "\n",
    "X_train, X_tmp, y_train, y_tmp = train_test_split(X, y, test_size=0.2, shuffle = False)\n",
    "X_val, X_test, y_val, y_test = train_test_split(X_tmp, y_tmp, test_size=0.5, shuffle = False)"
   ]
  },
  {
   "cell_type": "code",
   "execution_count": 14,
   "metadata": {
    "executionInfo": {
     "elapsed": 6,
     "status": "ok",
     "timestamp": 1701920463281,
     "user": {
      "displayName": "Eshan Bhargava",
      "userId": "11618991347122399879"
     },
     "user_tz": 480
    },
    "id": "zeKQAaX5T33W"
   },
   "outputs": [
    {
     "data": {
      "text/plain": [
       "(893828, 111728, 111729)"
      ]
     },
     "execution_count": 14,
     "metadata": {},
     "output_type": "execute_result"
    }
   ],
   "source": [
    "len(X_train), len(X_val), len(X_test)"
   ]
  },
  {
   "cell_type": "code",
   "execution_count": 15,
   "metadata": {
    "executionInfo": {
     "elapsed": 5,
     "status": "ok",
     "timestamp": 1701920464866,
     "user": {
      "displayName": "Eshan Bhargava",
      "userId": "11618991347122399879"
     },
     "user_tz": 480
    },
    "id": "Tw0gqQzUTbYY"
   },
   "outputs": [],
   "source": [
    "#Scaling data using Standard Scaler\n",
    "from sklearn.preprocessing import StandardScaler\n",
    "\n",
    "scaler = StandardScaler()\n",
    "X_train = pd.DataFrame(scaler.fit_transform(X_train), columns = X_train.columns)\n",
    "X_val = pd.DataFrame(scaler.fit_transform(X_val), columns = X_val.columns)\n",
    "X_test = pd.DataFrame(scaler.transform(X_test), columns = X_test.columns)"
   ]
  },
  {
   "cell_type": "code",
   "execution_count": 16,
   "metadata": {
    "colab": {
     "base_uri": "https://localhost:8080/",
     "height": 1000
    },
    "executionInfo": {
     "elapsed": 6181,
     "status": "ok",
     "timestamp": 1701920471822,
     "user": {
      "displayName": "Eshan Bhargava",
      "userId": "11618991347122399879"
     },
     "user_tz": 480
    },
    "id": "WdLIMnq6WYOe",
    "outputId": "fc39c949-b57f-4c86-a87b-28503d148b79"
   },
   "outputs": [
    {
     "name": "stderr",
     "output_type": "stream",
     "text": [
      "C:\\Users\\4esha\\anaconda3\\envs\\ml\\lib\\site-packages\\seaborn\\_oldcore.py:1498: FutureWarning: is_categorical_dtype is deprecated and will be removed in a future version. Use isinstance(dtype, CategoricalDtype) instead\n",
      "  if pd.api.types.is_categorical_dtype(vector):\n",
      "C:\\Users\\4esha\\anaconda3\\envs\\ml\\lib\\site-packages\\seaborn\\_oldcore.py:1119: FutureWarning: use_inf_as_na option is deprecated and will be removed in a future version. Convert inf values to NaN before operating instead.\n",
      "  with pd.option_context('mode.use_inf_as_na', True):\n"
     ]
    },
    {
     "data": {
      "image/png": "[encoded data removed]",
      "text/plain": [
       "<Figure size 640x480 with 1 Axes>"
      ]
     },
     "metadata": {},
     "output_type": "display_data"
    },
    {
     "name": "stderr",
     "output_type": "stream",
     "text": [
      "C:\\Users\\4esha\\anaconda3\\envs\\ml\\lib\\site-packages\\seaborn\\_oldcore.py:1498: FutureWarning: is_categorical_dtype is deprecated and will be removed in a future version. Use isinstance(dtype, CategoricalDtype) instead\n",
      "  if pd.api.types.is_categorical_dtype(vector):\n",
      "C:\\Users\\4esha\\anaconda3\\envs\\ml\\lib\\site-packages\\seaborn\\_oldcore.py:1119: FutureWarning: use_inf_as_na option is deprecated and will be removed in a future version. Convert inf values to NaN before operating instead.\n",
      "  with pd.option_context('mode.use_inf_as_na', True):\n"
     ]
    },
    {
     "data": {
      "image/png": "[encoded data removed]",
      "text/plain": [
       "<Figure size 640x480 with 1 Axes>"
      ]
     },
     "metadata": {},
     "output_type": "display_data"
    },
    {
     "name": "stderr",
     "output_type": "stream",
     "text": [
      "C:\\Users\\4esha\\anaconda3\\envs\\ml\\lib\\site-packages\\seaborn\\_oldcore.py:1498: FutureWarning: is_categorical_dtype is deprecated and will be removed in a future version. Use isinstance(dtype, CategoricalDtype) instead\n",
      "  if pd.api.types.is_categorical_dtype(vector):\n",
      "C:\\Users\\4esha\\anaconda3\\envs\\ml\\lib\\site-packages\\seaborn\\_oldcore.py:1119: FutureWarning: use_inf_as_na option is deprecated and will be removed in a future version. Convert inf values to NaN before operating instead.\n",
      "  with pd.option_context('mode.use_inf_as_na', True):\n"
     ]
    },
    {
     "data": {
      "image/png": "[encoded data removed]",
      "text/plain": [
       "<Figure size 640x480 with 1 Axes>"
      ]
     },
     "metadata": {},
     "output_type": "display_data"
    },
    {
     "name": "stderr",
     "output_type": "stream",
     "text": [
      "C:\\Users\\4esha\\anaconda3\\envs\\ml\\lib\\site-packages\\seaborn\\_oldcore.py:1498: FutureWarning: is_categorical_dtype is deprecated and will be removed in a future version. Use isinstance(dtype, CategoricalDtype) instead\n",
      "  if pd.api.types.is_categorical_dtype(vector):\n",
      "C:\\Users\\4esha\\anaconda3\\envs\\ml\\lib\\site-packages\\seaborn\\_oldcore.py:1119: FutureWarning: use_inf_as_na option is deprecated and will be removed in a future version. Convert inf values to NaN before operating instead.\n",
      "  with pd.option_context('mode.use_inf_as_na', True):\n"
     ]
    },
    {
     "data": {
      "image/png": "[encoded data removed]",
      "text/plain": [
       "<Figure size 640x480 with 1 Axes>"
      ]
     },
     "metadata": {},
     "output_type": "display_data"
    },
    {
     "name": "stderr",
     "output_type": "stream",
     "text": [
      "C:\\Users\\4esha\\anaconda3\\envs\\ml\\lib\\site-packages\\seaborn\\_oldcore.py:1498: FutureWarning: is_categorical_dtype is deprecated and will be removed in a future version. Use isinstance(dtype, CategoricalDtype) instead\n",
      "  if pd.api.types.is_categorical_dtype(vector):\n",
      "C:\\Users\\4esha\\anaconda3\\envs\\ml\\lib\\site-packages\\seaborn\\_oldcore.py:1119: FutureWarning: use_inf_as_na option is deprecated and will be removed in a future version. Convert inf values to NaN before operating instead.\n",
      "  with pd.option_context('mode.use_inf_as_na', True):\n"
     ]
    },
    {
     "data": {
      "image/png": "[encoded data removed]",
      "text/plain": [
       "<Figure size 640x480 with 1 Axes>"
      ]
     },
     "metadata": {},
     "output_type": "display_data"
    },
    {
     "name": "stderr",
     "output_type": "stream",
     "text": [
      "C:\\Users\\4esha\\anaconda3\\envs\\ml\\lib\\site-packages\\seaborn\\_oldcore.py:1498: FutureWarning: is_categorical_dtype is deprecated and will be removed in a future version. Use isinstance(dtype, CategoricalDtype) instead\n",
      "  if pd.api.types.is_categorical_dtype(vector):\n",
      "C:\\Users\\4esha\\anaconda3\\envs\\ml\\lib\\site-packages\\seaborn\\_oldcore.py:1119: FutureWarning: use_inf_as_na option is deprecated and will be removed in a future version. Convert inf values to NaN before operating instead.\n",
      "  with pd.option_context('mode.use_inf_as_na', True):\n"
     ]
    },
    {
     "data": {
      "image/png": "[encoded data removed]",
      "text/plain": [
       "<Figure size 640x480 with 1 Axes>"
      ]
     },
     "metadata": {},
     "output_type": "display_data"
    }
   ],
   "source": [
    "#Plotting distributions for relevant features in training set after scaling\n",
    "for feature in ['examiner_experience', 'examiner_allowance_ratio', 'class_saturation', 'subclass_saturation', 'customer_experience', 'customer_success_ratio']:\n",
    "  sns.histplot(X_train[feature])\n",
    "  plt.show()"
   ]
  },
  {
   "cell_type": "code",
   "execution_count": 17,
   "metadata": {
    "colab": {
     "base_uri": "https://localhost:8080/",
     "height": 300
    },
    "executionInfo": {
     "elapsed": 8,
     "status": "ok",
     "timestamp": 1701920471823,
     "user": {
      "displayName": "Eshan Bhargava",
      "userId": "11618991347122399879"
     },
     "user_tz": 480
    },
    "id": "3Ga8P1hlXHuA",
    "outputId": "64de0236-311f-47b6-b40a-79bcc3f819da",
    "scrolled": true
   },
   "outputs": [
    {
     "data": {
      "text/html": [
       "<div>\n",
       "<style scoped>\n",
       "    .dataframe tbody tr th:only-of-type {\n",
       "        vertical-align: middle;\n",
       "    }\n",
       "\n",
       "    .dataframe tbody tr th {\n",
       "        vertical-align: top;\n",
       "    }\n",
       "\n",
       "    .dataframe thead th {\n",
       "        text-align: right;\n",
       "    }\n",
       "</style>\n",
       "<table border=\"1\" class=\"dataframe\">\n",
       "  <thead>\n",
       "    <tr style=\"text-align: right;\">\n",
       "      <th></th>\n",
       "      <th>examiner_experience</th>\n",
       "      <th>examiner_allowance_ratio</th>\n",
       "      <th>class_saturation</th>\n",
       "      <th>subclass_saturation</th>\n",
       "      <th>customer_experience</th>\n",
       "      <th>customer_success_ratio</th>\n",
       "    </tr>\n",
       "  </thead>\n",
       "  <tbody>\n",
       "    <tr>\n",
       "      <th>count</th>\n",
       "      <td>8.938280e+05</td>\n",
       "      <td>8.938280e+05</td>\n",
       "      <td>8.938280e+05</td>\n",
       "      <td>8.938280e+05</td>\n",
       "      <td>8.938280e+05</td>\n",
       "      <td>8.938280e+05</td>\n",
       "    </tr>\n",
       "    <tr>\n",
       "      <th>mean</th>\n",
       "      <td>-6.707733e-17</td>\n",
       "      <td>3.693307e-16</td>\n",
       "      <td>5.043121e-17</td>\n",
       "      <td>3.680588e-17</td>\n",
       "      <td>-6.707733e-17</td>\n",
       "      <td>3.693307e-16</td>\n",
       "    </tr>\n",
       "    <tr>\n",
       "      <th>std</th>\n",
       "      <td>1.000001e+00</td>\n",
       "      <td>1.000001e+00</td>\n",
       "      <td>1.000001e+00</td>\n",
       "      <td>1.000001e+00</td>\n",
       "      <td>1.000001e+00</td>\n",
       "      <td>1.000001e+00</td>\n",
       "    </tr>\n",
       "    <tr>\n",
       "      <th>min</th>\n",
       "      <td>-1.014396e+00</td>\n",
       "      <td>-3.038604e+00</td>\n",
       "      <td>-1.056936e+00</td>\n",
       "      <td>-9.940641e-01</td>\n",
       "      <td>-1.014396e+00</td>\n",
       "      <td>-3.038604e+00</td>\n",
       "    </tr>\n",
       "    <tr>\n",
       "      <th>25%</th>\n",
       "      <td>-6.667279e-01</td>\n",
       "      <td>-6.704843e-01</td>\n",
       "      <td>-7.615958e-01</td>\n",
       "      <td>-6.823690e-01</td>\n",
       "      <td>-6.667279e-01</td>\n",
       "      <td>-6.704843e-01</td>\n",
       "    </tr>\n",
       "    <tr>\n",
       "      <th>50%</th>\n",
       "      <td>-3.060630e-01</td>\n",
       "      <td>1.696502e-01</td>\n",
       "      <td>-3.698908e-01</td>\n",
       "      <td>-1.864905e-01</td>\n",
       "      <td>-3.060630e-01</td>\n",
       "      <td>1.696502e-01</td>\n",
       "    </tr>\n",
       "    <tr>\n",
       "      <th>75%</th>\n",
       "      <td>4.201407e-01</td>\n",
       "      <td>8.056560e-01</td>\n",
       "      <td>4.077194e-01</td>\n",
       "      <td>3.529337e-01</td>\n",
       "      <td>4.201407e-01</td>\n",
       "      <td>8.056560e-01</td>\n",
       "    </tr>\n",
       "    <tr>\n",
       "      <th>max</th>\n",
       "      <td>7.524590e+00</td>\n",
       "      <td>1.432253e+00</td>\n",
       "      <td>2.932759e+00</td>\n",
       "      <td>6.412445e+00</td>\n",
       "      <td>7.524590e+00</td>\n",
       "      <td>1.432253e+00</td>\n",
       "    </tr>\n",
       "  </tbody>\n",
       "</table>\n",
       "</div>"
      ],
      "text/plain": [
       "       examiner_experience  examiner_allowance_ratio  class_saturation  \\\n",
       "count         8.938280e+05              8.938280e+05      8.938280e+05   \n",
       "mean         -6.707733e-17              3.693307e-16      5.043121e-17   \n",
       "std           1.000001e+00              1.000001e+00      1.000001e+00   \n",
       "min          -1.014396e+00             -3.038604e+00     -1.056936e+00   \n",
       "25%          -6.667279e-01             -6.704843e-01     -7.615958e-01   \n",
       "50%          -3.060630e-01              1.696502e-01     -3.698908e-01   \n",
       "75%           4.201407e-01              8.056560e-01      4.077194e-01   \n",
       "max           7.524590e+00              1.432253e+00      2.932759e+00   \n",
       "\n",
       "       subclass_saturation  customer_experience  customer_success_ratio  \n",
       "count         8.938280e+05         8.938280e+05            8.938280e+05  \n",
       "mean          3.680588e-17        -6.707733e-17            3.693307e-16  \n",
       "std           1.000001e+00         1.000001e+00            1.000001e+00  \n",
       "min          -9.940641e-01        -1.014396e+00           -3.038604e+00  \n",
       "25%          -6.823690e-01        -6.667279e-01           -6.704843e-01  \n",
       "50%          -1.864905e-01        -3.060630e-01            1.696502e-01  \n",
       "75%           3.529337e-01         4.201407e-01            8.056560e-01  \n",
       "max           6.412445e+00         7.524590e+00            1.432253e+00  "
      ]
     },
     "execution_count": 17,
     "metadata": {},
     "output_type": "execute_result"
    }
   ],
   "source": [
    "X_train.describe()"
   ]
  },
  {
   "cell_type": "code",
   "execution_count": 18,
   "metadata": {},
   "outputs": [],
   "source": [
    "import torch\n",
    "import torch.nn as nn\n",
    "import torch.optim as optim\n",
    "from torch.utils.data import Dataset, DataLoader\n",
    "import pandas as pd"
   ]
  },
  {
   "cell_type": "code",
   "execution_count": 19,
   "metadata": {},
   "outputs": [
    {
     "data": {
      "text/plain": [
       "device(type='cuda')"
      ]
     },
     "execution_count": 19,
     "metadata": {},
     "output_type": "execute_result"
    }
   ],
   "source": [
    "# Check if GPU is available and set the device\n",
    "device = torch.device('cuda' if torch.cuda.is_available() else 'cpu')\n",
    "device"
   ]
  },
  {
   "cell_type": "code",
   "execution_count": 20,
   "metadata": {},
   "outputs": [
    {
     "data": {
      "text/html": [
       "<div>\n",
       "<style scoped>\n",
       "    .dataframe tbody tr th:only-of-type {\n",
       "        vertical-align: middle;\n",
       "    }\n",
       "\n",
       "    .dataframe tbody tr th {\n",
       "        vertical-align: top;\n",
       "    }\n",
       "\n",
       "    .dataframe thead th {\n",
       "        text-align: right;\n",
       "    }\n",
       "</style>\n",
       "<table border=\"1\" class=\"dataframe\">\n",
       "  <thead>\n",
       "    <tr style=\"text-align: right;\">\n",
       "      <th></th>\n",
       "      <th>examiner_experience</th>\n",
       "      <th>examiner_allowance_ratio</th>\n",
       "      <th>class_saturation</th>\n",
       "      <th>subclass_saturation</th>\n",
       "      <th>customer_experience</th>\n",
       "      <th>customer_success_ratio</th>\n",
       "    </tr>\n",
       "  </thead>\n",
       "  <tbody>\n",
       "    <tr>\n",
       "      <th>0</th>\n",
       "      <td>-0.780451</td>\n",
       "      <td>0.252444</td>\n",
       "      <td>-0.815020</td>\n",
       "      <td>-0.134819</td>\n",
       "      <td>-0.780451</td>\n",
       "      <td>0.252444</td>\n",
       "    </tr>\n",
       "    <tr>\n",
       "      <th>1</th>\n",
       "      <td>0.259304</td>\n",
       "      <td>0.360160</td>\n",
       "      <td>1.407541</td>\n",
       "      <td>-0.950935</td>\n",
       "      <td>0.259304</td>\n",
       "      <td>0.360160</td>\n",
       "    </tr>\n",
       "    <tr>\n",
       "      <th>2</th>\n",
       "      <td>-0.587122</td>\n",
       "      <td>-0.471686</td>\n",
       "      <td>-0.784014</td>\n",
       "      <td>0.829852</td>\n",
       "      <td>-0.587122</td>\n",
       "      <td>-0.471686</td>\n",
       "    </tr>\n",
       "    <tr>\n",
       "      <th>3</th>\n",
       "      <td>-0.669977</td>\n",
       "      <td>-0.529019</td>\n",
       "      <td>0.933413</td>\n",
       "      <td>-0.479017</td>\n",
       "      <td>-0.669977</td>\n",
       "      <td>-0.529019</td>\n",
       "    </tr>\n",
       "    <tr>\n",
       "      <th>4</th>\n",
       "      <td>-0.747959</td>\n",
       "      <td>0.123710</td>\n",
       "      <td>-0.873166</td>\n",
       "      <td>4.284751</td>\n",
       "      <td>-0.747959</td>\n",
       "      <td>0.123710</td>\n",
       "    </tr>\n",
       "    <tr>\n",
       "      <th>...</th>\n",
       "      <td>...</td>\n",
       "      <td>...</td>\n",
       "      <td>...</td>\n",
       "      <td>...</td>\n",
       "      <td>...</td>\n",
       "      <td>...</td>\n",
       "    </tr>\n",
       "    <tr>\n",
       "      <th>893823</th>\n",
       "      <td>-0.294691</td>\n",
       "      <td>-1.222003</td>\n",
       "      <td>-0.949529</td>\n",
       "      <td>-0.769252</td>\n",
       "      <td>-0.294691</td>\n",
       "      <td>-1.222003</td>\n",
       "    </tr>\n",
       "    <tr>\n",
       "      <th>893824</th>\n",
       "      <td>0.114713</td>\n",
       "      <td>0.930488</td>\n",
       "      <td>-0.780705</td>\n",
       "      <td>0.247507</td>\n",
       "      <td>0.114713</td>\n",
       "      <td>0.930488</td>\n",
       "    </tr>\n",
       "    <tr>\n",
       "      <th>893825</th>\n",
       "      <td>1.729582</td>\n",
       "      <td>0.746669</td>\n",
       "      <td>0.000214</td>\n",
       "      <td>-0.593819</td>\n",
       "      <td>1.729582</td>\n",
       "      <td>0.746669</td>\n",
       "    </tr>\n",
       "    <tr>\n",
       "      <th>893826</th>\n",
       "      <td>-0.239454</td>\n",
       "      <td>0.279391</td>\n",
       "      <td>-0.672741</td>\n",
       "      <td>6.412445</td>\n",
       "      <td>-0.239454</td>\n",
       "      <td>0.279391</td>\n",
       "    </tr>\n",
       "    <tr>\n",
       "      <th>893827</th>\n",
       "      <td>-0.042875</td>\n",
       "      <td>-0.033111</td>\n",
       "      <td>0.003560</td>\n",
       "      <td>1.261558</td>\n",
       "      <td>-0.042875</td>\n",
       "      <td>-0.033111</td>\n",
       "    </tr>\n",
       "  </tbody>\n",
       "</table>\n",
       "<p>893828 rows × 6 columns</p>\n",
       "</div>"
      ],
      "text/plain": [
       "        examiner_experience  examiner_allowance_ratio  class_saturation  \\\n",
       "0                 -0.780451                  0.252444         -0.815020   \n",
       "1                  0.259304                  0.360160          1.407541   \n",
       "2                 -0.587122                 -0.471686         -0.784014   \n",
       "3                 -0.669977                 -0.529019          0.933413   \n",
       "4                 -0.747959                  0.123710         -0.873166   \n",
       "...                     ...                       ...               ...   \n",
       "893823            -0.294691                 -1.222003         -0.949529   \n",
       "893824             0.114713                  0.930488         -0.780705   \n",
       "893825             1.729582                  0.746669          0.000214   \n",
       "893826            -0.239454                  0.279391         -0.672741   \n",
       "893827            -0.042875                 -0.033111          0.003560   \n",
       "\n",
       "        subclass_saturation  customer_experience  customer_success_ratio  \n",
       "0                 -0.134819            -0.780451                0.252444  \n",
       "1                 -0.950935             0.259304                0.360160  \n",
       "2                  0.829852            -0.587122               -0.471686  \n",
       "3                 -0.479017            -0.669977               -0.529019  \n",
       "4                  4.284751            -0.747959                0.123710  \n",
       "...                     ...                  ...                     ...  \n",
       "893823            -0.769252            -0.294691               -1.222003  \n",
       "893824             0.247507             0.114713                0.930488  \n",
       "893825            -0.593819             1.729582                0.746669  \n",
       "893826             6.412445            -0.239454                0.279391  \n",
       "893827             1.261558            -0.042875               -0.033111  \n",
       "\n",
       "[893828 rows x 6 columns]"
      ]
     },
     "execution_count": 20,
     "metadata": {},
     "output_type": "execute_result"
    }
   ],
   "source": [
    "X_train"
   ]
  },
  {
   "cell_type": "code",
   "execution_count": 21,
   "metadata": {},
   "outputs": [],
   "source": [
    "# Convert to PyTorch tensors\n",
    "X_train_tensors = torch.tensor(X_train.to_numpy(), dtype=torch.float32).to(device)\n",
    "X_val_tensors = torch.tensor(X_val.to_numpy(), dtype=torch.float32).to(device)\n",
    "X_test_tensors = torch.tensor(X_test.to_numpy(), dtype=torch.float32).to(device)\n",
    "\n",
    "y_train_tensors = torch.tensor(y_train.to_numpy(), dtype=torch.float32).to(device)\n",
    "y_val_tensors = torch.tensor(y_val.to_numpy(), dtype=torch.float32).to(device)\n",
    "y_test_tensors = torch.tensor(y_test.to_numpy(), dtype=torch.float32).to(device)"
   ]
  },
  {
   "cell_type": "code",
   "execution_count": 22,
   "metadata": {},
   "outputs": [],
   "source": [
    "class CustomDataset(Dataset):\n",
    "    def __init__(self, features, labels):\n",
    "        self.features = features\n",
    "        self.labels = labels\n",
    "\n",
    "    def __len__(self):\n",
    "        return len(self.features)\n",
    "\n",
    "    def __getitem__(self, idx):\n",
    "        return self.features[idx], self.labels[idx]"
   ]
  },
  {
   "cell_type": "code",
   "execution_count": 25,
   "metadata": {},
   "outputs": [],
   "source": [
    "train_dataset = CustomDataset(X_train_tensors, y_train_tensors)\n",
    "val_dataset = CustomDataset(X_val_tensors, y_val_tensors)\n",
    "test_dataset = CustomDataset(X_test_tensors, y_test_tensors)"
   ]
  },
  {
   "cell_type": "code",
   "execution_count": 26,
   "metadata": {},
   "outputs": [],
   "source": [
    "# DataLoader\n",
    "train_loader = DataLoader(train_dataset, batch_size=32, shuffle=True)\n",
    "val_loader = DataLoader(val_dataset, batch_size=32, shuffle=True)\n",
    "test_loader = DataLoader(test_dataset, batch_size=32, shuffle=False)"
   ]
  },
  {
   "cell_type": "code",
   "execution_count": 50,
   "metadata": {},
   "outputs": [],
   "source": [
    "class NeuralNetwork(nn.Module):\n",
    "    def __init__(self):\n",
    "        super(NeuralNetwork, self).__init__()\n",
    "        self.linear1 = nn.Linear(6, 10)\n",
    "        self.relu = nn.ReLU()\n",
    "        self.linear2 = nn.Linear(10, 5)        \n",
    "        self.linear3 = nn.Linear(5, 3)\n",
    "        self.linear4 = nn.Linear(3, 1)\n",
    "        self.sigmoid = nn.Sigmoid()\n",
    "\n",
    "    def forward(self, x):\n",
    "        x = self.linear1(x)\n",
    "        x = self.relu(x)\n",
    "        x = self.linear2(x)\n",
    "        x = self.relu(x)\n",
    "        x = self.linear3(x)\n",
    "        x = self.relu(x)\n",
    "        x = self.linear4(x)\n",
    "        x = self.sigmoid(x)\n",
    "        return x"
   ]
  },
  {
   "cell_type": "code",
   "execution_count": 62,
   "metadata": {},
   "outputs": [],
   "source": [
    "model = NeuralNetwork().to(device) "
   ]
  },
  {
   "cell_type": "code",
   "execution_count": 63,
   "metadata": {},
   "outputs": [],
   "source": [
    "# Define loss function and optimizer\n",
    "criterion = nn.BCELoss()\n",
    "optimizer = optim.SGD(model.parameters(), lr=0.1)\n",
    "# Training loop\n",
    "num_epochs = 20\n",
    "best_accuracy = 0.0"
   ]
  },
  {
   "cell_type": "code",
   "execution_count": 64,
   "metadata": {},
   "outputs": [
    {
     "name": "stdout",
     "output_type": "stream",
     "text": [
      "Epoch [1/20], Loss: 0.4963\n",
      "Epoch [1/20], Accuracy: 81.59%\n",
      "model saved\n",
      "Epoch [2/20], Loss: 0.4940\n",
      "Epoch [2/20], Accuracy: 81.33%\n",
      "Epoch [3/20], Loss: 0.4933\n",
      "Epoch [3/20], Accuracy: 81.65%\n",
      "model saved\n",
      "Epoch [4/20], Loss: 0.4930\n",
      "Epoch [4/20], Accuracy: 81.29%\n",
      "Epoch [5/20], Loss: 0.4927\n",
      "Epoch [5/20], Accuracy: 81.83%\n",
      "model saved\n",
      "Epoch [6/20], Loss: 0.4925\n",
      "Epoch [6/20], Accuracy: 80.97%\n",
      "Epoch [7/20], Loss: 0.4923\n",
      "Epoch [7/20], Accuracy: 81.61%\n",
      "Epoch [8/20], Loss: 0.4923\n",
      "Epoch [8/20], Accuracy: 80.67%\n",
      "Epoch [9/20], Loss: 0.4922\n",
      "Epoch [9/20], Accuracy: 81.84%\n",
      "model saved\n",
      "Epoch [10/20], Loss: 0.4921\n",
      "Epoch [10/20], Accuracy: 81.37%\n",
      "Epoch [11/20], Loss: 0.4921\n",
      "Epoch [11/20], Accuracy: 81.70%\n",
      "Epoch [12/20], Loss: 0.4920\n",
      "Epoch [12/20], Accuracy: 81.00%\n",
      "Epoch [13/20], Loss: 0.4919\n",
      "Epoch [13/20], Accuracy: 81.62%\n",
      "Epoch [14/20], Loss: 0.4918\n",
      "Epoch [14/20], Accuracy: 81.85%\n",
      "model saved\n",
      "Epoch [15/20], Loss: 0.4918\n",
      "Epoch [15/20], Accuracy: 81.51%\n",
      "Epoch [16/20], Loss: 0.4918\n",
      "Epoch [16/20], Accuracy: 81.46%\n",
      "Epoch [17/20], Loss: 0.4918\n",
      "Epoch [17/20], Accuracy: 81.32%\n",
      "Epoch [18/20], Loss: 0.4917\n",
      "Epoch [18/20], Accuracy: 80.85%\n",
      "Epoch [19/20], Loss: 0.4917\n",
      "Epoch [19/20], Accuracy: 81.75%\n",
      "Epoch [20/20], Loss: 0.4915\n",
      "Epoch [20/20], Accuracy: 80.59%\n"
     ]
    }
   ],
   "source": [
    "for epoch in range(num_epochs):\n",
    "    model.train()\n",
    "    running_loss = 0.0\n",
    "    \n",
    "    for inputs, labels in train_loader:\n",
    "        inputs, labels = inputs.to(device), labels.to(device)\n",
    "        optimizer.zero_grad()\n",
    "        outputs = model(inputs)\n",
    "        loss = criterion(outputs, labels.view(-1, 1))\n",
    "        loss.backward()\n",
    "        optimizer.step()\n",
    "\n",
    "        running_loss += loss.item()\n",
    "\n",
    "    # Print average loss per epoch\n",
    "    avg_loss = running_loss / len(train_loader)\n",
    "    print(f\"Epoch [{epoch+1}/{num_epochs}], Loss: {avg_loss:.4f}\")\n",
    "\n",
    "    # Validation loop for accuracy\n",
    "    model.eval()\n",
    "    correct = 0\n",
    "    total = 0\n",
    "    with torch.no_grad():\n",
    "        for inputs, labels in val_loader:\n",
    "            inputs, labels = inputs.to(device), labels.to(device)\n",
    "            outputs = model(inputs)\n",
    "            predicted = (outputs.data > 0.5).view(-1).long()\n",
    "            total += labels.size(0)\n",
    "            correct += (predicted == labels.long()).sum().item()\n",
    "\n",
    "    accuracy = 100 * correct / total\n",
    "    print(f\"Epoch [{epoch+1}/{num_epochs}], Accuracy: {accuracy:.2f}%\")\n",
    "    \n",
    "    # Check if this is the best model so far\n",
    "    if accuracy > best_accuracy:\n",
    "        best_accuracy = accuracy\n",
    "        torch.save(model.state_dict(), 'best_model.pth')\n",
    "        print(\"model saved\")"
   ]
  },
  {
   "cell_type": "code",
   "execution_count": 65,
   "metadata": {},
   "outputs": [],
   "source": [
    "from sklearn.metrics import accuracy_score, precision_score, recall_score, f1_score"
   ]
  },
  {
   "cell_type": "code",
   "execution_count": 70,
   "metadata": {},
   "outputs": [
    {
     "data": {
      "text/plain": [
       "<All keys matched successfully>"
      ]
     },
     "execution_count": 70,
     "metadata": {},
     "output_type": "execute_result"
    }
   ],
   "source": [
    "state_dict = torch.load('best_model_gold_2.pth')\n",
    "model.load_state_dict(state_dict)"
   ]
  },
  {
   "cell_type": "code",
   "execution_count": 71,
   "metadata": {
    "scrolled": true
   },
   "outputs": [],
   "source": [
    "model.eval()\n",
    "correct = 0\n",
    "total = 0\n",
    "predictions = []\n",
    "labels_list = []\n",
    "\n",
    "with torch.no_grad():\n",
    "    for inputs, labels in test_loader:\n",
    "        inputs, labels = inputs.to(device), labels.to(device)\n",
    "        outputs = model(inputs)\n",
    "        predicted = (outputs.data > 0.5).view(-1).long()\n",
    "        total += labels.size(0)\n",
    "        correct += (predicted == labels.long()).sum().item()\n",
    "        predictions.extend(predicted.cpu().numpy())\n",
    "        labels_list.extend(labels.cpu().numpy())"
   ]
  },
  {
   "cell_type": "code",
   "execution_count": 72,
   "metadata": {},
   "outputs": [
    {
     "name": "stdout",
     "output_type": "stream",
     "text": [
      "Epoch [20/20], Accuracy: 86.58%\n"
     ]
    }
   ],
   "source": [
    "accuracy = 100 * correct / total\n",
    "print(f\"Epoch [{epoch+1}/{num_epochs}], Accuracy: {accuracy:.2f}%\")"
   ]
  },
  {
   "cell_type": "code",
   "execution_count": 73,
   "metadata": {},
   "outputs": [
    {
     "name": "stdout",
     "output_type": "stream",
     "text": [
      "Accuracy: 86.5800\n",
      "Precision: 0.8934\n",
      "Recall: 0.9598\n",
      "F1: 0.9254\n"
     ]
    }
   ],
   "source": [
    "precision = precision_score(labels_list, predictions)\n",
    "recall = recall_score(labels_list, predictions)\n",
    "f1 = f1_score(labels_list, predictions)\n",
    "\n",
    "print(f'Accuracy: {accuracy:.4f}')\n",
    "print(f'Precision: {precision:.4f}')\n",
    "print(f'Recall: {recall:.4f}')\n",
    "print(f'F1: {f1:.4f}')"
   ]
  },
  {
   "cell_type": "code",
   "execution_count": null,
   "metadata": {},
   "outputs": [],
   "source": []
  }
 ],
 "metadata": {
  "accelerator": "GPU",
  "colab": {
   "gpuType": "V100",
   "machine_shape": "hm",
   "provenance": []
  },
  "kernelspec": {
   "display_name": "ml",
   "language": "python",
   "name": "ml"
  },
  "language_info": {
   "codemirror_mode": {
    "name": "ipython",
    "version": 3
   },
   "file_extension": ".py",
   "mimetype": "text/x-python",
   "name": "python",
   "nbconvert_exporter": "python",
   "pygments_lexer": "ipython3",
   "version": "3.9.18"
  }
 },
 "nbformat": 4,
 "nbformat_minor": 4
}
