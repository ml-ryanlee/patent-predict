{
  "cells": [
    {
      "cell_type": "code",
      "execution_count": null,
      "metadata": {
        "id": "ouP0X5odPs12"
      },
      "outputs": [],
      "source": [
        "#Imports\n",
        "import numpy as np\n",
        "import pandas as pd\n",
        "\n",
        "import matplotlib.pyplot as plt\n",
        "import seaborn as sns\n",
        "\n",
        "from sklearn.metrics import accuracy_score, precision_score, recall_score, f1_score"
      ]
    },
    {
      "cell_type": "code",
      "execution_count": null,
      "metadata": {
        "colab": {
          "base_uri": "https://localhost:8080/"
        },
        "id": "VR-m2zbnSOJM",
        "outputId": "edf2f92c-132e-43ae-9fb5-3369b9947884"
      },
      "outputs": [
        {
          "name": "stdout",
          "output_type": "stream",
          "text": [
            "Mounted at /content/drive\n"
          ]
        }
      ],
      "source": [
        "from google.colab import drive\n",
        "drive.mount('/content/drive')"
      ]
    },
    {
      "cell_type": "code",
      "execution_count": null,
      "metadata": {
        "id": "vpFeEXEcQRSg"
      },
      "outputs": [],
      "source": [
        "#Import data\n",
        "metadata = pd.read_csv('/content/drive/MyDrive/CSCI_567/Project/application_metadata.csv')"
      ]
    },
    {
      "cell_type": "code",
      "execution_count": null,
      "metadata": {
        "colab": {
          "base_uri": "https://localhost:8080/"
        },
        "id": "ucLsS5w0STHg",
        "outputId": "626e9cdc-b6de-4f8b-de60-efaabfe8f695"
      },
      "outputs": [
        {
          "data": {
            "text/plain": [
              "ISS     3139764\n",
              "ABN      977521\n",
              "PEND     798795\n",
              "Name: status, dtype: int64"
            ]
          },
          "execution_count": 6,
          "metadata": {},
          "output_type": "execute_result"
        }
      ],
      "source": [
        "metadata['status'].value_counts()"
      ]
    },
    {
      "cell_type": "code",
      "execution_count": null,
      "metadata": {
        "id": "LrCtiT6PSZ7Q"
      },
      "outputs": [],
      "source": [
        "#Removing pending patents\n",
        "metadata = metadata[metadata['status'] != 'PEND']"
      ]
    },
    {
      "cell_type": "code",
      "execution_count": null,
      "metadata": {
        "colab": {
          "base_uri": "https://localhost:8080/"
        },
        "id": "RhIzv8SmSg1m",
        "outputId": "50b792eb-fa38-4f1b-9d36-5ca4f8a3231e"
      },
      "outputs": [
        {
          "data": {
            "text/plain": [
              "ISS    3139764\n",
              "ABN     977521\n",
              "Name: status, dtype: int64"
            ]
          },
          "execution_count": 8,
          "metadata": {},
          "output_type": "execute_result"
        }
      ],
      "source": [
        "metadata['status'].value_counts()"
      ]
    },
    {
      "cell_type": "code",
      "execution_count": null,
      "metadata": {
        "colab": {
          "base_uri": "https://localhost:8080/"
        },
        "id": "FY8QKwviQX2Z",
        "outputId": "da790de1-bbc0-47ae-9d65-69d634373354"
      },
      "outputs": [
        {
          "name": "stdout",
          "output_type": "stream",
          "text": [
            "<class 'pandas.core.frame.DataFrame'>\n",
            "Int64Index: 4117285 entries, 0 to 4915887\n",
            "Data columns (total 8 columns):\n",
            " #   Column                    Dtype  \n",
            "---  ------                    -----  \n",
            " 0   doc-id                    int64  \n",
            " 1   examiner_experience       int64  \n",
            " 2   examiner_allowance_ratio  float64\n",
            " 3   class_saturation          int64  \n",
            " 4   subclass_saturation       int64  \n",
            " 5   customer_experience       int64  \n",
            " 6   customer_success_ratio    float64\n",
            " 7   status                    object \n",
            "dtypes: float64(2), int64(5), object(1)\n",
            "memory usage: 282.7+ MB\n"
          ]
        }
      ],
      "source": [
        "metadata.info()"
      ]
    },
    {
      "cell_type": "code",
      "execution_count": null,
      "metadata": {
        "colab": {
          "base_uri": "https://localhost:8080/",
          "height": 320
        },
        "id": "y-utl4tSQ2zC",
        "outputId": "0aba8fc4-08ab-4060-ac46-0358d272b6ba"
      },
      "outputs": [
        {
          "data": {
            "text/html": [
              "\n",
              "  <div id=\"df-5a896f7e-f0a9-43b1-a6a3-f0f3bc7838d5\" class=\"colab-df-container\">\n",
              "    <div>\n",
              "<style scoped>\n",
              "    .dataframe tbody tr th:only-of-type {\n",
              "        vertical-align: middle;\n",
              "    }\n",
              "\n",
              "    .dataframe tbody tr th {\n",
              "        vertical-align: top;\n",
              "    }\n",
              "\n",
              "    .dataframe thead th {\n",
              "        text-align: right;\n",
              "    }\n",
              "</style>\n",
              "<table border=\"1\" class=\"dataframe\">\n",
              "  <thead>\n",
              "    <tr style=\"text-align: right;\">\n",
              "      <th></th>\n",
              "      <th>doc-id</th>\n",
              "      <th>examiner_experience</th>\n",
              "      <th>examiner_allowance_ratio</th>\n",
              "      <th>class_saturation</th>\n",
              "      <th>subclass_saturation</th>\n",
              "      <th>customer_experience</th>\n",
              "      <th>customer_success_ratio</th>\n",
              "    </tr>\n",
              "  </thead>\n",
              "  <tbody>\n",
              "    <tr>\n",
              "      <th>count</th>\n",
              "      <td>4.117285e+06</td>\n",
              "      <td>4.117285e+06</td>\n",
              "      <td>4.117285e+06</td>\n",
              "      <td>4.117285e+06</td>\n",
              "      <td>4.117285e+06</td>\n",
              "      <td>4.117285e+06</td>\n",
              "      <td>4.117285e+06</td>\n",
              "    </tr>\n",
              "    <tr>\n",
              "      <th>mean</th>\n",
              "      <td>1.234501e+07</td>\n",
              "      <td>5.029763e+02</td>\n",
              "      <td>7.643155e-01</td>\n",
              "      <td>1.675307e+04</td>\n",
              "      <td>2.954730e+03</td>\n",
              "      <td>5.029763e+02</td>\n",
              "      <td>7.643155e-01</td>\n",
              "    </tr>\n",
              "    <tr>\n",
              "      <th>std</th>\n",
              "      <td>5.607356e+06</td>\n",
              "      <td>1.320641e+03</td>\n",
              "      <td>2.228962e-01</td>\n",
              "      <td>2.099201e+04</td>\n",
              "      <td>3.829545e+03</td>\n",
              "      <td>1.320641e+03</td>\n",
              "      <td>2.228962e-01</td>\n",
              "    </tr>\n",
              "    <tr>\n",
              "      <th>min</th>\n",
              "      <td>2.618355e+06</td>\n",
              "      <td>0.000000e+00</td>\n",
              "      <td>0.000000e+00</td>\n",
              "      <td>0.000000e+00</td>\n",
              "      <td>0.000000e+00</td>\n",
              "      <td>0.000000e+00</td>\n",
              "      <td>0.000000e+00</td>\n",
              "    </tr>\n",
              "    <tr>\n",
              "      <th>25%</th>\n",
              "      <td>1.010214e+07</td>\n",
              "      <td>1.030000e+02</td>\n",
              "      <td>6.315789e-01</td>\n",
              "      <td>2.936000e+03</td>\n",
              "      <td>4.590000e+02</td>\n",
              "      <td>1.030000e+02</td>\n",
              "      <td>6.315789e-01</td>\n",
              "    </tr>\n",
              "    <tr>\n",
              "      <th>50%</th>\n",
              "      <td>1.140475e+07</td>\n",
              "      <td>2.630000e+02</td>\n",
              "      <td>8.390142e-01</td>\n",
              "      <td>8.520000e+03</td>\n",
              "      <td>1.750000e+03</td>\n",
              "      <td>2.630000e+02</td>\n",
              "      <td>8.390142e-01</td>\n",
              "    </tr>\n",
              "    <tr>\n",
              "      <th>75%</th>\n",
              "      <td>1.262732e+07</td>\n",
              "      <td>5.720000e+02</td>\n",
              "      <td>9.437908e-01</td>\n",
              "      <td>2.127600e+04</td>\n",
              "      <td>4.032000e+03</td>\n",
              "      <td>5.720000e+02</td>\n",
              "      <td>9.437908e-01</td>\n",
              "    </tr>\n",
              "    <tr>\n",
              "      <th>max</th>\n",
              "      <td>9.603000e+07</td>\n",
              "      <td>2.694000e+04</td>\n",
              "      <td>1.000000e+00</td>\n",
              "      <td>1.255260e+05</td>\n",
              "      <td>3.846600e+04</td>\n",
              "      <td>2.694000e+04</td>\n",
              "      <td>1.000000e+00</td>\n",
              "    </tr>\n",
              "  </tbody>\n",
              "</table>\n",
              "</div>\n",
              "    <div class=\"colab-df-buttons\">\n",
              "\n",
              "  <div class=\"colab-df-container\">\n",
              "    <button class=\"colab-df-convert\" onclick=\"convertToInteractive('df-5a896f7e-f0a9-43b1-a6a3-f0f3bc7838d5')\"\n",
              "            title=\"Convert this dataframe to an interactive table.\"\n",
              "            style=\"display:none;\">\n",
              "\n",
              "  <svg xmlns=\"http://www.w3.org/2000/svg\" height=\"24px\" viewBox=\"0 -960 960 960\">\n",
              "    <path d=\"M120-120v-720h720v720H120Zm60-500h600v-160H180v160Zm220 220h160v-160H400v160Zm0 220h160v-160H400v160ZM180-400h160v-160H180v160Zm440 0h160v-160H620v160ZM180-180h160v-160H180v160Zm440 0h160v-160H620v160Z\"/>\n",
              "  </svg>\n",
              "    </button>\n",
              "\n",
              "  <style>\n",
              "    .colab-df-container {\n",
              "      display:flex;\n",
              "      gap: 12px;\n",
              "    }\n",
              "\n",
              "    .colab-df-convert {\n",
              "      background-color: #E8F0FE;\n",
              "      border: none;\n",
              "      border-radius: 50%;\n",
              "      cursor: pointer;\n",
              "      display: none;\n",
              "      fill: #1967D2;\n",
              "      height: 32px;\n",
              "      padding: 0 0 0 0;\n",
              "      width: 32px;\n",
              "    }\n",
              "\n",
              "    .colab-df-convert:hover {\n",
              "      background-color: #E2EBFA;\n",
              "      box-shadow: 0px 1px 2px rgba(60, 64, 67, 0.3), 0px 1px 3px 1px rgba(60, 64, 67, 0.15);\n",
              "      fill: #174EA6;\n",
              "    }\n",
              "\n",
              "    .colab-df-buttons div {\n",
              "      margin-bottom: 4px;\n",
              "    }\n",
              "\n",
              "    [theme=dark] .colab-df-convert {\n",
              "      background-color: #3B4455;\n",
              "      fill: #D2E3FC;\n",
              "    }\n",
              "\n",
              "    [theme=dark] .colab-df-convert:hover {\n",
              "      background-color: #434B5C;\n",
              "      box-shadow: 0px 1px 3px 1px rgba(0, 0, 0, 0.15);\n",
              "      filter: drop-shadow(0px 1px 2px rgba(0, 0, 0, 0.3));\n",
              "      fill: #FFFFFF;\n",
              "    }\n",
              "  </style>\n",
              "\n",
              "    <script>\n",
              "      const buttonEl =\n",
              "        document.querySelector('#df-5a896f7e-f0a9-43b1-a6a3-f0f3bc7838d5 button.colab-df-convert');\n",
              "      buttonEl.style.display =\n",
              "        google.colab.kernel.accessAllowed ? 'block' : 'none';\n",
              "\n",
              "      async function convertToInteractive(key) {\n",
              "        const element = document.querySelector('#df-5a896f7e-f0a9-43b1-a6a3-f0f3bc7838d5');\n",
              "        const dataTable =\n",
              "          await google.colab.kernel.invokeFunction('convertToInteractive',\n",
              "                                                    [key], {});\n",
              "        if (!dataTable) return;\n",
              "\n",
              "        const docLinkHtml = 'Like what you see? Visit the ' +\n",
              "          '<a target=\"_blank\" href=https://colab.research.google.com/notebooks/data_table.ipynb>data table notebook</a>'\n",
              "          + ' to learn more about interactive tables.';\n",
              "        element.innerHTML = '';\n",
              "        dataTable['output_type'] = 'display_data';\n",
              "        await google.colab.output.renderOutput(dataTable, element);\n",
              "        const docLink = document.createElement('div');\n",
              "        docLink.innerHTML = docLinkHtml;\n",
              "        element.appendChild(docLink);\n",
              "      }\n",
              "    </script>\n",
              "  </div>\n",
              "\n",
              "\n",
              "<div id=\"df-86e61a93-8b64-4bd3-b50f-5c38b74efe26\">\n",
              "  <button class=\"colab-df-quickchart\" onclick=\"quickchart('df-86e61a93-8b64-4bd3-b50f-5c38b74efe26')\"\n",
              "            title=\"Suggest charts\"\n",
              "            style=\"display:none;\">\n",
              "\n",
              "<svg xmlns=\"http://www.w3.org/2000/svg\" height=\"24px\"viewBox=\"0 0 24 24\"\n",
              "     width=\"24px\">\n",
              "    <g>\n",
              "        <path d=\"M19 3H5c-1.1 0-2 .9-2 2v14c0 1.1.9 2 2 2h14c1.1 0 2-.9 2-2V5c0-1.1-.9-2-2-2zM9 17H7v-7h2v7zm4 0h-2V7h2v10zm4 0h-2v-4h2v4z\"/>\n",
              "    </g>\n",
              "</svg>\n",
              "  </button>\n",
              "\n",
              "<style>\n",
              "  .colab-df-quickchart {\n",
              "      --bg-color: #E8F0FE;\n",
              "      --fill-color: #1967D2;\n",
              "      --hover-bg-color: #E2EBFA;\n",
              "      --hover-fill-color: #174EA6;\n",
              "      --disabled-fill-color: #AAA;\n",
              "      --disabled-bg-color: #DDD;\n",
              "  }\n",
              "\n",
              "  [theme=dark] .colab-df-quickchart {\n",
              "      --bg-color: #3B4455;\n",
              "      --fill-color: #D2E3FC;\n",
              "      --hover-bg-color: #434B5C;\n",
              "      --hover-fill-color: #FFFFFF;\n",
              "      --disabled-bg-color: #3B4455;\n",
              "      --disabled-fill-color: #666;\n",
              "  }\n",
              "\n",
              "  .colab-df-quickchart {\n",
              "    background-color: var(--bg-color);\n",
              "    border: none;\n",
              "    border-radius: 50%;\n",
              "    cursor: pointer;\n",
              "    display: none;\n",
              "    fill: var(--fill-color);\n",
              "    height: 32px;\n",
              "    padding: 0;\n",
              "    width: 32px;\n",
              "  }\n",
              "\n",
              "  .colab-df-quickchart:hover {\n",
              "    background-color: var(--hover-bg-color);\n",
              "    box-shadow: 0 1px 2px rgba(60, 64, 67, 0.3), 0 1px 3px 1px rgba(60, 64, 67, 0.15);\n",
              "    fill: var(--button-hover-fill-color);\n",
              "  }\n",
              "\n",
              "  .colab-df-quickchart-complete:disabled,\n",
              "  .colab-df-quickchart-complete:disabled:hover {\n",
              "    background-color: var(--disabled-bg-color);\n",
              "    fill: var(--disabled-fill-color);\n",
              "    box-shadow: none;\n",
              "  }\n",
              "\n",
              "  .colab-df-spinner {\n",
              "    border: 2px solid var(--fill-color);\n",
              "    border-color: transparent;\n",
              "    border-bottom-color: var(--fill-color);\n",
              "    animation:\n",
              "      spin 1s steps(1) infinite;\n",
              "  }\n",
              "\n",
              "  @keyframes spin {\n",
              "    0% {\n",
              "      border-color: transparent;\n",
              "      border-bottom-color: var(--fill-color);\n",
              "      border-left-color: var(--fill-color);\n",
              "    }\n",
              "    20% {\n",
              "      border-color: transparent;\n",
              "      border-left-color: var(--fill-color);\n",
              "      border-top-color: var(--fill-color);\n",
              "    }\n",
              "    30% {\n",
              "      border-color: transparent;\n",
              "      border-left-color: var(--fill-color);\n",
              "      border-top-color: var(--fill-color);\n",
              "      border-right-color: var(--fill-color);\n",
              "    }\n",
              "    40% {\n",
              "      border-color: transparent;\n",
              "      border-right-color: var(--fill-color);\n",
              "      border-top-color: var(--fill-color);\n",
              "    }\n",
              "    60% {\n",
              "      border-color: transparent;\n",
              "      border-right-color: var(--fill-color);\n",
              "    }\n",
              "    80% {\n",
              "      border-color: transparent;\n",
              "      border-right-color: var(--fill-color);\n",
              "      border-bottom-color: var(--fill-color);\n",
              "    }\n",
              "    90% {\n",
              "      border-color: transparent;\n",
              "      border-bottom-color: var(--fill-color);\n",
              "    }\n",
              "  }\n",
              "</style>\n",
              "\n",
              "  <script>\n",
              "    async function quickchart(key) {\n",
              "      const quickchartButtonEl =\n",
              "        document.querySelector('#' + key + ' button');\n",
              "      quickchartButtonEl.disabled = true;  // To prevent multiple clicks.\n",
              "      quickchartButtonEl.classList.add('colab-df-spinner');\n",
              "      try {\n",
              "        const charts = await google.colab.kernel.invokeFunction(\n",
              "            'suggestCharts', [key], {});\n",
              "      } catch (error) {\n",
              "        console.error('Error during call to suggestCharts:', error);\n",
              "      }\n",
              "      quickchartButtonEl.classList.remove('colab-df-spinner');\n",
              "      quickchartButtonEl.classList.add('colab-df-quickchart-complete');\n",
              "    }\n",
              "    (() => {\n",
              "      let quickchartButtonEl =\n",
              "        document.querySelector('#df-86e61a93-8b64-4bd3-b50f-5c38b74efe26 button');\n",
              "      quickchartButtonEl.style.display =\n",
              "        google.colab.kernel.accessAllowed ? 'block' : 'none';\n",
              "    })();\n",
              "  </script>\n",
              "</div>\n",
              "\n",
              "    </div>\n",
              "  </div>\n"
            ],
            "text/plain": [
              "             doc-id  examiner_experience  examiner_allowance_ratio  \\\n",
              "count  4.117285e+06         4.117285e+06              4.117285e+06   \n",
              "mean   1.234501e+07         5.029763e+02              7.643155e-01   \n",
              "std    5.607356e+06         1.320641e+03              2.228962e-01   \n",
              "min    2.618355e+06         0.000000e+00              0.000000e+00   \n",
              "25%    1.010214e+07         1.030000e+02              6.315789e-01   \n",
              "50%    1.140475e+07         2.630000e+02              8.390142e-01   \n",
              "75%    1.262732e+07         5.720000e+02              9.437908e-01   \n",
              "max    9.603000e+07         2.694000e+04              1.000000e+00   \n",
              "\n",
              "       class_saturation  subclass_saturation  customer_experience  \\\n",
              "count      4.117285e+06         4.117285e+06         4.117285e+06   \n",
              "mean       1.675307e+04         2.954730e+03         5.029763e+02   \n",
              "std        2.099201e+04         3.829545e+03         1.320641e+03   \n",
              "min        0.000000e+00         0.000000e+00         0.000000e+00   \n",
              "25%        2.936000e+03         4.590000e+02         1.030000e+02   \n",
              "50%        8.520000e+03         1.750000e+03         2.630000e+02   \n",
              "75%        2.127600e+04         4.032000e+03         5.720000e+02   \n",
              "max        1.255260e+05         3.846600e+04         2.694000e+04   \n",
              "\n",
              "       customer_success_ratio  \n",
              "count            4.117285e+06  \n",
              "mean             7.643155e-01  \n",
              "std              2.228962e-01  \n",
              "min              0.000000e+00  \n",
              "25%              6.315789e-01  \n",
              "50%              8.390142e-01  \n",
              "75%              9.437908e-01  \n",
              "max              1.000000e+00  "
            ]
          },
          "execution_count": 10,
          "metadata": {},
          "output_type": "execute_result"
        }
      ],
      "source": [
        "metadata.describe()"
      ]
    },
    {
      "cell_type": "code",
      "execution_count": null,
      "metadata": {
        "id": "jXWBV28PTCzr"
      },
      "outputs": [],
      "source": [
        "#Data seems to be skewed by earlier results. Taking only last ~1,000,000\n",
        "metadata = metadata[3000000:]"
      ]
    },
    {
      "cell_type": "code",
      "execution_count": null,
      "metadata": {
        "colab": {
          "base_uri": "https://localhost:8080/"
        },
        "id": "coW8ILL9V-z4",
        "outputId": "601013e9-f87e-40ed-8584-8e1cac621872"
      },
      "outputs": [
        {
          "data": {
            "text/plain": [
              "1    844069\n",
              "0    273216\n",
              "Name: status, dtype: int64"
            ]
          },
          "execution_count": 12,
          "metadata": {},
          "output_type": "execute_result"
        }
      ],
      "source": [
        "#Encoding target feature\n",
        "metadata['status'] = metadata['status'].replace({'ISS': 1, 'ABN': 0})\n",
        "metadata['status'].value_counts()"
      ]
    },
    {
      "cell_type": "code",
      "execution_count": null,
      "metadata": {
        "id": "zeKQAaX5T33W"
      },
      "outputs": [],
      "source": [
        "#Splitting into train and test (not shuffling to keep data sequential)\n",
        "from sklearn.model_selection import train_test_split\n",
        "\n",
        "X = metadata.drop(['status', 'doc-id'], axis=1)\n",
        "y = metadata['status']\n",
        "\n",
        "X_train, X_test, y_train, y_test = train_test_split(X, y, test_size=0.2, shuffle = False)"
      ]
    },
    {
      "cell_type": "code",
      "execution_count": null,
      "metadata": {
        "id": "Tw0gqQzUTbYY"
      },
      "outputs": [],
      "source": [
        "#Scaling data using Standard Scaler\n",
        "from sklearn.preprocessing import StandardScaler\n",
        "\n",
        "scaler = StandardScaler()\n",
        "X_train = pd.DataFrame(scaler.fit_transform(X_train), columns = X_train.columns)\n",
        "X_test = pd.DataFrame(scaler.transform(X_test), columns = X_test.columns)"
      ]
    },
    {
      "cell_type": "code",
      "execution_count": null,
      "metadata": {
        "colab": {
          "base_uri": "https://localhost:8080/",
          "height": 1000
        },
        "id": "WdLIMnq6WYOe",
        "outputId": "8b9ede9c-60f7-43e7-cbd3-7698e0be41d0"
      },
      "outputs": [
        {
          "data": {
            "image/png": "[encoded data removed]",
            "text/plain": [
              "<Figure size 640x480 with 1 Axes>"
            ]
          },
          "metadata": {},
          "output_type": "display_data"
        },
        {
          "data": {
            "image/png": "[encoded data removed]",
            "text/plain": [
              "<Figure size 640x480 with 1 Axes>"
            ]
          },
          "metadata": {},
          "output_type": "display_data"
        },
        {
          "data": {
            "image/png": "[encoded data removed]",
            "text/plain": [
              "<Figure size 640x480 with 1 Axes>"
            ]
          },
          "metadata": {},
          "output_type": "display_data"
        },
        {
          "data": {
            "image/png": "[encoded data removed]",
            "text/plain": [
              "<Figure size 640x480 with 1 Axes>"
            ]
          },
          "metadata": {},
          "output_type": "display_data"
        },
        {
          "data": {
            "image/png": "[encoded data removed]",
            "text/plain": [
              "<Figure size 640x480 with 1 Axes>"
            ]
          },
          "metadata": {},
          "output_type": "display_data"
        },
        {
          "data": {
            "image/png": "[encoded data removed]",
            "text/plain": [
              "<Figure size 640x480 with 1 Axes>"
            ]
          },
          "metadata": {},
          "output_type": "display_data"
        }
      ],
      "source": [
        "#Plotting distributions for relevant features in training set after scaling\n",
        "for feature in ['examiner_experience', 'examiner_allowance_ratio', 'class_saturation', 'subclass_saturation', 'customer_experience', 'customer_success_ratio']:\n",
        "  sns.histplot(X_train[feature])\n",
        "  plt.show()"
      ]
    },
    {
      "cell_type": "code",
      "execution_count": null,
      "metadata": {
        "colab": {
          "base_uri": "https://localhost:8080/",
          "height": 300
        },
        "id": "3Ga8P1hlXHuA",
        "outputId": "c6a97c59-c9c8-4aff-eb03-ccb562b637bb"
      },
      "outputs": [
        {
          "data": {
            "text/html": [
              "\n",
              "  <div id=\"df-c10eabb7-d069-4f0d-9f91-40c2509e24c0\" class=\"colab-df-container\">\n",
              "    <div>\n",
              "<style scoped>\n",
              "    .dataframe tbody tr th:only-of-type {\n",
              "        vertical-align: middle;\n",
              "    }\n",
              "\n",
              "    .dataframe tbody tr th {\n",
              "        vertical-align: top;\n",
              "    }\n",
              "\n",
              "    .dataframe thead th {\n",
              "        text-align: right;\n",
              "    }\n",
              "</style>\n",
              "<table border=\"1\" class=\"dataframe\">\n",
              "  <thead>\n",
              "    <tr style=\"text-align: right;\">\n",
              "      <th></th>\n",
              "      <th>examiner_experience</th>\n",
              "      <th>examiner_allowance_ratio</th>\n",
              "      <th>class_saturation</th>\n",
              "      <th>subclass_saturation</th>\n",
              "      <th>customer_experience</th>\n",
              "      <th>customer_success_ratio</th>\n",
              "    </tr>\n",
              "  </thead>\n",
              "  <tbody>\n",
              "    <tr>\n",
              "      <th>count</th>\n",
              "      <td>8.938280e+05</td>\n",
              "      <td>8.938280e+05</td>\n",
              "      <td>8.938280e+05</td>\n",
              "      <td>8.938280e+05</td>\n",
              "      <td>8.938280e+05</td>\n",
              "      <td>8.938280e+05</td>\n",
              "    </tr>\n",
              "    <tr>\n",
              "      <th>mean</th>\n",
              "      <td>-6.707733e-17</td>\n",
              "      <td>3.693307e-16</td>\n",
              "      <td>5.043121e-17</td>\n",
              "      <td>3.680588e-17</td>\n",
              "      <td>-6.707733e-17</td>\n",
              "      <td>3.693307e-16</td>\n",
              "    </tr>\n",
              "    <tr>\n",
              "      <th>std</th>\n",
              "      <td>1.000001e+00</td>\n",
              "      <td>1.000001e+00</td>\n",
              "      <td>1.000001e+00</td>\n",
              "      <td>1.000001e+00</td>\n",
              "      <td>1.000001e+00</td>\n",
              "      <td>1.000001e+00</td>\n",
              "    </tr>\n",
              "    <tr>\n",
              "      <th>min</th>\n",
              "      <td>-1.014396e+00</td>\n",
              "      <td>-3.038604e+00</td>\n",
              "      <td>-1.056936e+00</td>\n",
              "      <td>-9.940641e-01</td>\n",
              "      <td>-1.014396e+00</td>\n",
              "      <td>-3.038604e+00</td>\n",
              "    </tr>\n",
              "    <tr>\n",
              "      <th>25%</th>\n",
              "      <td>-6.667279e-01</td>\n",
              "      <td>-6.704843e-01</td>\n",
              "      <td>-7.615958e-01</td>\n",
              "      <td>-6.823690e-01</td>\n",
              "      <td>-6.667279e-01</td>\n",
              "      <td>-6.704843e-01</td>\n",
              "    </tr>\n",
              "    <tr>\n",
              "      <th>50%</th>\n",
              "      <td>-3.060630e-01</td>\n",
              "      <td>1.696502e-01</td>\n",
              "      <td>-3.698908e-01</td>\n",
              "      <td>-1.864905e-01</td>\n",
              "      <td>-3.060630e-01</td>\n",
              "      <td>1.696502e-01</td>\n",
              "    </tr>\n",
              "    <tr>\n",
              "      <th>75%</th>\n",
              "      <td>4.201407e-01</td>\n",
              "      <td>8.056560e-01</td>\n",
              "      <td>4.077194e-01</td>\n",
              "      <td>3.529337e-01</td>\n",
              "      <td>4.201407e-01</td>\n",
              "      <td>8.056560e-01</td>\n",
              "    </tr>\n",
              "    <tr>\n",
              "      <th>max</th>\n",
              "      <td>7.524590e+00</td>\n",
              "      <td>1.432253e+00</td>\n",
              "      <td>2.932759e+00</td>\n",
              "      <td>6.412445e+00</td>\n",
              "      <td>7.524590e+00</td>\n",
              "      <td>1.432253e+00</td>\n",
              "    </tr>\n",
              "  </tbody>\n",
              "</table>\n",
              "</div>\n",
              "    <div class=\"colab-df-buttons\">\n",
              "\n",
              "  <div class=\"colab-df-container\">\n",
              "    <button class=\"colab-df-convert\" onclick=\"convertToInteractive('df-c10eabb7-d069-4f0d-9f91-40c2509e24c0')\"\n",
              "            title=\"Convert this dataframe to an interactive table.\"\n",
              "            style=\"display:none;\">\n",
              "\n",
              "  <svg xmlns=\"http://www.w3.org/2000/svg\" height=\"24px\" viewBox=\"0 -960 960 960\">\n",
              "    <path d=\"M120-120v-720h720v720H120Zm60-500h600v-160H180v160Zm220 220h160v-160H400v160Zm0 220h160v-160H400v160ZM180-400h160v-160H180v160Zm440 0h160v-160H620v160ZM180-180h160v-160H180v160Zm440 0h160v-160H620v160Z\"/>\n",
              "  </svg>\n",
              "    </button>\n",
              "\n",
              "  <style>\n",
              "    .colab-df-container {\n",
              "      display:flex;\n",
              "      gap: 12px;\n",
              "    }\n",
              "\n",
              "    .colab-df-convert {\n",
              "      background-color: #E8F0FE;\n",
              "      border: none;\n",
              "      border-radius: 50%;\n",
              "      cursor: pointer;\n",
              "      display: none;\n",
              "      fill: #1967D2;\n",
              "      height: 32px;\n",
              "      padding: 0 0 0 0;\n",
              "      width: 32px;\n",
              "    }\n",
              "\n",
              "    .colab-df-convert:hover {\n",
              "      background-color: #E2EBFA;\n",
              "      box-shadow: 0px 1px 2px rgba(60, 64, 67, 0.3), 0px 1px 3px 1px rgba(60, 64, 67, 0.15);\n",
              "      fill: #174EA6;\n",
              "    }\n",
              "\n",
              "    .colab-df-buttons div {\n",
              "      margin-bottom: 4px;\n",
              "    }\n",
              "\n",
              "    [theme=dark] .colab-df-convert {\n",
              "      background-color: #3B4455;\n",
              "      fill: #D2E3FC;\n",
              "    }\n",
              "\n",
              "    [theme=dark] .colab-df-convert:hover {\n",
              "      background-color: #434B5C;\n",
              "      box-shadow: 0px 1px 3px 1px rgba(0, 0, 0, 0.15);\n",
              "      filter: drop-shadow(0px 1px 2px rgba(0, 0, 0, 0.3));\n",
              "      fill: #FFFFFF;\n",
              "    }\n",
              "  </style>\n",
              "\n",
              "    <script>\n",
              "      const buttonEl =\n",
              "        document.querySelector('#df-c10eabb7-d069-4f0d-9f91-40c2509e24c0 button.colab-df-convert');\n",
              "      buttonEl.style.display =\n",
              "        google.colab.kernel.accessAllowed ? 'block' : 'none';\n",
              "\n",
              "      async function convertToInteractive(key) {\n",
              "        const element = document.querySelector('#df-c10eabb7-d069-4f0d-9f91-40c2509e24c0');\n",
              "        const dataTable =\n",
              "          await google.colab.kernel.invokeFunction('convertToInteractive',\n",
              "                                                    [key], {});\n",
              "        if (!dataTable) return;\n",
              "\n",
              "        const docLinkHtml = 'Like what you see? Visit the ' +\n",
              "          '<a target=\"_blank\" href=https://colab.research.google.com/notebooks/data_table.ipynb>data table notebook</a>'\n",
              "          + ' to learn more about interactive tables.';\n",
              "        element.innerHTML = '';\n",
              "        dataTable['output_type'] = 'display_data';\n",
              "        await google.colab.output.renderOutput(dataTable, element);\n",
              "        const docLink = document.createElement('div');\n",
              "        docLink.innerHTML = docLinkHtml;\n",
              "        element.appendChild(docLink);\n",
              "      }\n",
              "    </script>\n",
              "  </div>\n",
              "\n",
              "\n",
              "<div id=\"df-5fc121c3-feff-4a7f-9175-0f8847a0db5d\">\n",
              "  <button class=\"colab-df-quickchart\" onclick=\"quickchart('df-5fc121c3-feff-4a7f-9175-0f8847a0db5d')\"\n",
              "            title=\"Suggest charts\"\n",
              "            style=\"display:none;\">\n",
              "\n",
              "<svg xmlns=\"http://www.w3.org/2000/svg\" height=\"24px\"viewBox=\"0 0 24 24\"\n",
              "     width=\"24px\">\n",
              "    <g>\n",
              "        <path d=\"M19 3H5c-1.1 0-2 .9-2 2v14c0 1.1.9 2 2 2h14c1.1 0 2-.9 2-2V5c0-1.1-.9-2-2-2zM9 17H7v-7h2v7zm4 0h-2V7h2v10zm4 0h-2v-4h2v4z\"/>\n",
              "    </g>\n",
              "</svg>\n",
              "  </button>\n",
              "\n",
              "<style>\n",
              "  .colab-df-quickchart {\n",
              "      --bg-color: #E8F0FE;\n",
              "      --fill-color: #1967D2;\n",
              "      --hover-bg-color: #E2EBFA;\n",
              "      --hover-fill-color: #174EA6;\n",
              "      --disabled-fill-color: #AAA;\n",
              "      --disabled-bg-color: #DDD;\n",
              "  }\n",
              "\n",
              "  [theme=dark] .colab-df-quickchart {\n",
              "      --bg-color: #3B4455;\n",
              "      --fill-color: #D2E3FC;\n",
              "      --hover-bg-color: #434B5C;\n",
              "      --hover-fill-color: #FFFFFF;\n",
              "      --disabled-bg-color: #3B4455;\n",
              "      --disabled-fill-color: #666;\n",
              "  }\n",
              "\n",
              "  .colab-df-quickchart {\n",
              "    background-color: var(--bg-color);\n",
              "    border: none;\n",
              "    border-radius: 50%;\n",
              "    cursor: pointer;\n",
              "    display: none;\n",
              "    fill: var(--fill-color);\n",
              "    height: 32px;\n",
              "    padding: 0;\n",
              "    width: 32px;\n",
              "  }\n",
              "\n",
              "  .colab-df-quickchart:hover {\n",
              "    background-color: var(--hover-bg-color);\n",
              "    box-shadow: 0 1px 2px rgba(60, 64, 67, 0.3), 0 1px 3px 1px rgba(60, 64, 67, 0.15);\n",
              "    fill: var(--button-hover-fill-color);\n",
              "  }\n",
              "\n",
              "  .colab-df-quickchart-complete:disabled,\n",
              "  .colab-df-quickchart-complete:disabled:hover {\n",
              "    background-color: var(--disabled-bg-color);\n",
              "    fill: var(--disabled-fill-color);\n",
              "    box-shadow: none;\n",
              "  }\n",
              "\n",
              "  .colab-df-spinner {\n",
              "    border: 2px solid var(--fill-color);\n",
              "    border-color: transparent;\n",
              "    border-bottom-color: var(--fill-color);\n",
              "    animation:\n",
              "      spin 1s steps(1) infinite;\n",
              "  }\n",
              "\n",
              "  @keyframes spin {\n",
              "    0% {\n",
              "      border-color: transparent;\n",
              "      border-bottom-color: var(--fill-color);\n",
              "      border-left-color: var(--fill-color);\n",
              "    }\n",
              "    20% {\n",
              "      border-color: transparent;\n",
              "      border-left-color: var(--fill-color);\n",
              "      border-top-color: var(--fill-color);\n",
              "    }\n",
              "    30% {\n",
              "      border-color: transparent;\n",
              "      border-left-color: var(--fill-color);\n",
              "      border-top-color: var(--fill-color);\n",
              "      border-right-color: var(--fill-color);\n",
              "    }\n",
              "    40% {\n",
              "      border-color: transparent;\n",
              "      border-right-color: var(--fill-color);\n",
              "      border-top-color: var(--fill-color);\n",
              "    }\n",
              "    60% {\n",
              "      border-color: transparent;\n",
              "      border-right-color: var(--fill-color);\n",
              "    }\n",
              "    80% {\n",
              "      border-color: transparent;\n",
              "      border-right-color: var(--fill-color);\n",
              "      border-bottom-color: var(--fill-color);\n",
              "    }\n",
              "    90% {\n",
              "      border-color: transparent;\n",
              "      border-bottom-color: var(--fill-color);\n",
              "    }\n",
              "  }\n",
              "</style>\n",
              "\n",
              "  <script>\n",
              "    async function quickchart(key) {\n",
              "      const quickchartButtonEl =\n",
              "        document.querySelector('#' + key + ' button');\n",
              "      quickchartButtonEl.disabled = true;  // To prevent multiple clicks.\n",
              "      quickchartButtonEl.classList.add('colab-df-spinner');\n",
              "      try {\n",
              "        const charts = await google.colab.kernel.invokeFunction(\n",
              "            'suggestCharts', [key], {});\n",
              "      } catch (error) {\n",
              "        console.error('Error during call to suggestCharts:', error);\n",
              "      }\n",
              "      quickchartButtonEl.classList.remove('colab-df-spinner');\n",
              "      quickchartButtonEl.classList.add('colab-df-quickchart-complete');\n",
              "    }\n",
              "    (() => {\n",
              "      let quickchartButtonEl =\n",
              "        document.querySelector('#df-5fc121c3-feff-4a7f-9175-0f8847a0db5d button');\n",
              "      quickchartButtonEl.style.display =\n",
              "        google.colab.kernel.accessAllowed ? 'block' : 'none';\n",
              "    })();\n",
              "  </script>\n",
              "</div>\n",
              "\n",
              "    </div>\n",
              "  </div>\n"
            ],
            "text/plain": [
              "       examiner_experience  examiner_allowance_ratio  class_saturation  \\\n",
              "count         8.938280e+05              8.938280e+05      8.938280e+05   \n",
              "mean         -6.707733e-17              3.693307e-16      5.043121e-17   \n",
              "std           1.000001e+00              1.000001e+00      1.000001e+00   \n",
              "min          -1.014396e+00             -3.038604e+00     -1.056936e+00   \n",
              "25%          -6.667279e-01             -6.704843e-01     -7.615958e-01   \n",
              "50%          -3.060630e-01              1.696502e-01     -3.698908e-01   \n",
              "75%           4.201407e-01              8.056560e-01      4.077194e-01   \n",
              "max           7.524590e+00              1.432253e+00      2.932759e+00   \n",
              "\n",
              "       subclass_saturation  customer_experience  customer_success_ratio  \n",
              "count         8.938280e+05         8.938280e+05            8.938280e+05  \n",
              "mean          3.680588e-17        -6.707733e-17            3.693307e-16  \n",
              "std           1.000001e+00         1.000001e+00            1.000001e+00  \n",
              "min          -9.940641e-01        -1.014396e+00           -3.038604e+00  \n",
              "25%          -6.823690e-01        -6.667279e-01           -6.704843e-01  \n",
              "50%          -1.864905e-01        -3.060630e-01            1.696502e-01  \n",
              "75%           3.529337e-01         4.201407e-01            8.056560e-01  \n",
              "max           6.412445e+00         7.524590e+00            1.432253e+00  "
            ]
          },
          "execution_count": 16,
          "metadata": {},
          "output_type": "execute_result"
        }
      ],
      "source": [
        "X_train.describe()"
      ]
    },
    {
      "cell_type": "markdown",
      "metadata": {
        "id": "klDRq6kPbO-8"
      },
      "source": [
        "Model Training and Evaluation"
      ]
    },
    {
      "cell_type": "markdown",
      "metadata": {
        "id": "rGveLQAukDsp"
      },
      "source": [
        "# Decision Trees"
      ]
    },
    {
      "cell_type": "code",
      "execution_count": null,
      "metadata": {
        "id": "11NBXGb0kDAa"
      },
      "outputs": [],
      "source": [
        "from sklearn.tree import _tree\n",
        "from sklearn import tree\n",
        "from sklearn.tree import export_text\n",
        "from sklearn.model_selection import cross_val_score\n",
        "import graphviz\n",
        "from sklearn.model_selection import GridSearchCV"
      ]
    },
    {
      "cell_type": "markdown",
      "metadata": {
        "id": "SyoWySyametI"
      },
      "source": [
        "# fit tree on full data"
      ]
    },
    {
      "cell_type": "code",
      "execution_count": null,
      "metadata": {
        "id": "SSNtC0w2kPH8"
      },
      "outputs": [],
      "source": [
        "clf = tree.DecisionTreeClassifier()\n",
        "clf = clf.fit(X, y)"
      ]
    },
    {
      "cell_type": "code",
      "execution_count": null,
      "metadata": {
        "colab": {
          "base_uri": "https://localhost:8080/"
        },
        "id": "6977P2CApn8G",
        "outputId": "1e4979af-ae79-423c-e14b-64d20ca0a464"
      },
      "outputs": [
        {
          "data": {
            "text/plain": [
              "Index(['examiner_experience', 'examiner_allowance_ratio', 'class_saturation',\n",
              "       'subclass_saturation', 'customer_experience', 'customer_success_ratio'],\n",
              "      dtype='object')"
            ]
          },
          "execution_count": 19,
          "metadata": {},
          "output_type": "execute_result"
        }
      ],
      "source": [
        "colnames = metadata.columns[1:-1]\n",
        "colnames"
      ]
    },
    {
      "cell_type": "code",
      "execution_count": null,
      "metadata": {
        "id": "BsdvWuPSkaFq"
      },
      "outputs": [],
      "source": [
        "data = tree.export_graphviz(clf, out_file=None,\n",
        "                      feature_names=colnames,\n",
        "                      class_names=[\"ISS\", \"ABN\"],\n",
        "                      filled=True, rounded=True,\n",
        "                      special_characters=True)\n",
        "graph = graphviz.Source(data)\n",
        "# graph.view() # way too big"
      ]
    },
    {
      "cell_type": "markdown",
      "metadata": {
        "id": "T07x4R8pmrKg"
      },
      "source": [
        "# Interpretable If-then ruleset"
      ]
    },
    {
      "cell_type": "code",
      "execution_count": null,
      "metadata": {
        "id": "j2MnZIRKml9c"
      },
      "outputs": [],
      "source": [
        "'''def tree_to_code(tree, feature_names):\n",
        "    tree_ = tree.tree_\n",
        "    feature_name = [\n",
        "        feature_names[i] if i != _tree.TREE_UNDEFINED else \"undefined!\"\n",
        "        for i in tree_.feature\n",
        "    ]\n",
        "    print(\"def tree({}):\".format(\", \".join(feature_names)))\n",
        "    def recurse(node, depth):\n",
        "        indent = \"  \" * depth\n",
        "        if tree_.feature[node] != _tree.TREE_UNDEFINED:\n",
        "            name = feature_name[node]\n",
        "            threshold = tree_.threshold[node]\n",
        "            print(\"{}if {} <= {}:\".format(indent, name, threshold))\n",
        "            recurse(tree_.children_left[node], depth + 1)\n",
        "            print(\"{}else:  # if {} > {}\".format(indent, name, threshold))\n",
        "            recurse(tree_.children_right[node], depth + 1)\n",
        "        else:\n",
        "            print(\"{}then {}\".format(indent, tree_.value[node]))\n",
        "\n",
        "    recurse(0, 1)'''"
      ]
    },
    {
      "cell_type": "code",
      "execution_count": null,
      "metadata": {
        "id": "li_4iS5vm364"
      },
      "outputs": [],
      "source": [
        "# tree_to_code(clf, colnames)"
      ]
    },
    {
      "cell_type": "markdown",
      "metadata": {
        "id": "PREzp1mwsIJg"
      },
      "source": [
        "### No interpretability"
      ]
    },
    {
      "cell_type": "markdown",
      "metadata": {
        "id": "p0LIjjC7nt_4"
      },
      "source": [
        "# Cost-Complexity Pruning"
      ]
    },
    {
      "cell_type": "code",
      "execution_count": null,
      "metadata": {
        "id": "USA4QkUxnwzl"
      },
      "outputs": [],
      "source": [
        "path = clf.cost_complexity_pruning_path(X, y)\n",
        "ccp_alphas, impurities = path.ccp_alphas, path.impurities"
      ]
    },
    {
      "cell_type": "code",
      "execution_count": null,
      "metadata": {
        "colab": {
          "base_uri": "https://localhost:8080/"
        },
        "id": "KmOUNJNcoe22",
        "outputId": "cb6d9d2f-0450-4687-d2dd-6c50a9643e63"
      },
      "outputs": [
        {
          "name": "stdout",
          "output_type": "stream",
          "text": [
            "Number of nodes in the tree is: 444329\n",
            "alpha:                          0.0\n",
            "mean acc of 5-fold cv:          0.6255154235490497\n",
            "\n",
            "Number of nodes in the tree is: 444321\n",
            "alpha:                          4.155481495640901e-07\n",
            "mean acc of 5-fold cv:          0.6255154235490497\n",
            "\n",
            "Number of nodes in the tree is: 444321\n",
            "alpha:                          4.195438048483601e-07\n",
            "mean acc of 5-fold cv:          0.6255154235490497\n",
            "\n",
            "Number of nodes in the tree is: 444289\n",
            "alpha:                          4.3573672363198063e-07\n",
            "mean acc of 5-fold cv:          0.6255154235490497\n",
            "\n",
            "Number of nodes in the tree is: 444281\n",
            "alpha:                          4.3659843106170826e-07\n",
            "mean acc of 5-fold cv:          0.6255154235490497\n",
            "\n"
          ]
        }
      ],
      "source": [
        "clfs = []\n",
        "avg_acc_per_fold = []\n",
        "# kf = KFold(n_splits=5)\n",
        "for ccp_alpha in ccp_alphas[:5]:\n",
        "    clf = tree.DecisionTreeClassifier(random_state=0, ccp_alpha=ccp_alpha)\n",
        "    clf.fit(X, y)\n",
        "    '''for train_index, test_index in kf.split(X):\n",
        "        X_train, X_test = X[train_index], X[test_index]\n",
        "        y_train, y_test = y[train_index], y[test_index]\n",
        "        clf = tree.DecisionTreeClassifier(random_state=0, ccp_alpha=ccp_alpha)\n",
        "        clf.fit(X_train, y_train)\n",
        "        y_pred = clf.predict(X_test)\n",
        "        print(y_pred)\n",
        "        print(accuracy_score(y_test, y_pred))\n",
        "        #raise NotImplementedError'''\n",
        "\n",
        "    acc_score = np.mean(cross_val_score(clf, X, y, cv=5, scoring = \"accuracy\"))\n",
        "    avg_acc_per_fold.append(acc_score)\n",
        "    clfs.append(clf)\n",
        "    print(\"Number of nodes in the tree is:\", clf.tree_.node_count)\n",
        "    print(\"alpha:                         \",ccp_alpha)\n",
        "    print(\"mean acc of 5-fold cv:         \", acc_score)\n",
        "    print()"
      ]
    },
    {
      "cell_type": "code",
      "execution_count": null,
      "metadata": {
        "colab": {
          "base_uri": "https://localhost:8080/"
        },
        "id": "P81QEHh34Sn2",
        "outputId": "40e6760c-4ad9-498d-eba5-d3c7463dc8d3"
      },
      "outputs": [
        {
          "data": {
            "text/plain": [
              "[0.0,\n",
              " 1.2786096909664308e-06,\n",
              " 1.5911587265360026e-06,\n",
              " 1.9655490151327103e-06,\n",
              " 2.3674687603703965e-06,\n",
              " 2.7748144519656583e-06,\n",
              " 3.4740115530143513e-06,\n",
              " 4.284183122481793e-06,\n",
              " 5.806619452473601e-06,\n",
              " 1.161591408571042e-05,\n",
              " 2.5606119819531387e-05,\n",
              " 5.573136932646161e-05,\n",
              " 0.00020124205714651053,\n",
              " 0.0011071609297571283,\n",
              " 0.00729279609761993,\n",
              " 0.03940234717853264]"
            ]
          },
          "execution_count": 22,
          "metadata": {},
          "output_type": "execute_result"
        }
      ],
      "source": [
        "ccp_alpha_indices = [0, -40000, -20000, -10000, -5000, -2500, -1000, -500, -250, -100, -50, -25, -10, -5, -2, -1]\n",
        "mapped_ccps = [ccp_alphas[i] for i in ccp_alpha_indices]\n",
        "mapped_ccps"
      ]
    },
    {
      "cell_type": "code",
      "execution_count": null,
      "metadata": {
        "id": "xbVNT_Jt5tcs"
      },
      "outputs": [],
      "source": [
        "clfs = []\n",
        "avg_acc_per_fold_last_alphas = []"
      ]
    },
    {
      "cell_type": "code",
      "execution_count": null,
      "metadata": {
        "colab": {
          "background_save": true,
          "base_uri": "https://localhost:8080/"
        },
        "id": "5uteUrKOuP_w",
        "outputId": "db51b4d2-d15d-4866-b6f7-2912a6a266e1"
      },
      "outputs": [
        {
          "name": "stdout",
          "output_type": "stream",
          "text": [
            "Number of nodes in the tree is: 444329\n",
            "alpha:                          0.0\n",
            "mean acc of 5-fold cv:          0.6255154235490497\n",
            "\n",
            "Number of nodes in the tree is: 215325\n",
            "alpha:                          1.2786096909664308e-06\n",
            "mean acc of 5-fold cv:          0.6387457094653557\n",
            "\n",
            "Number of nodes in the tree is: 122667\n",
            "alpha:                          1.5911587265360026e-06\n",
            "mean acc of 5-fold cv:          0.6478472368285622\n",
            "\n",
            "Number of nodes in the tree is: 65677\n",
            "alpha:                          1.9655490151327103e-06\n",
            "mean acc of 5-fold cv:          0.6675593067122534\n",
            "\n",
            "Number of nodes in the tree is: 32299\n",
            "alpha:                          2.3674687603703965e-06\n",
            "mean acc of 5-fold cv:          0.6878603042196038\n",
            "\n",
            "Number of nodes in the tree is: 14621\n",
            "alpha:                          2.7748144519656583e-06\n",
            "mean acc of 5-fold cv:          0.7075992249068055\n",
            "\n",
            "Number of nodes in the tree is: 4897\n",
            "alpha:                          3.4740115530143513e-06\n",
            "mean acc of 5-fold cv:          0.733900481971923\n",
            "\n"
          ]
        }
      ],
      "source": [
        "# kf = KFold(n_splits=5)\n",
        "for ccp_alpha in mapped_ccps:\n",
        "    clf = tree.DecisionTreeClassifier(random_state=0, ccp_alpha=ccp_alpha)\n",
        "    clf.fit(X, y)\n",
        "    acc_score = np.mean(cross_val_score(clf, X, y, cv=5, scoring = \"accuracy\"))\n",
        "    avg_acc_per_fold_last_alphas.append(acc_score)\n",
        "    clfs.append(clf)\n",
        "    print(\"Number of nodes in the tree is:\", clf.tree_.node_count)\n",
        "    print(\"alpha:                         \",ccp_alpha)\n",
        "    print(\"mean acc of 5-fold cv:         \", acc_score)\n",
        "    print()"
      ]
    },
    {
      "cell_type": "markdown",
      "source": [
        "# gets to 77 percent"
      ],
      "metadata": {
        "id": "aXExgLQyIzgh"
      }
    },
    {
      "cell_type": "code",
      "execution_count": null,
      "metadata": {
        "id": "zZv0MQfxoh1s"
      },
      "outputs": [],
      "source": [
        "fig, ax = plt.subplots()\n",
        "ax.set_xlabel(\"alpha\")\n",
        "ax.set_ylabel(\"accuracy\")\n",
        "ax.set_title(\"Accuracy vs alpha for validation split\")\n",
        "ax.plot(mapped_ccps, avg_acc_per_fold_last_alphas, marker=\"o\", label=\"validation\", drawstyle=\"steps-post\")\n",
        "ax.legend()\n",
        "plt.show()"
      ]
    },
    {
      "cell_type": "code",
      "execution_count": null,
      "metadata": {
        "colab": {
          "base_uri": "https://localhost:8080/",
          "height": 176
        },
        "id": "LHrvFGnnc4Ou",
        "outputId": "ba886db2-1636-4cf8-a135-08d1fab78e67"
      },
      "outputs": [
        {
          "ename": "IndexError",
          "evalue": "ignored",
          "output_type": "error",
          "traceback": [
            "\u001b[0;31m---------------------------------------------------------------------------\u001b[0m",
            "\u001b[0;31mIndexError\u001b[0m                                Traceback (most recent call last)",
            "\u001b[0;32m<ipython-input-44-383a715a9c15>\u001b[0m in \u001b[0;36m<cell line: 1>\u001b[0;34m()\u001b[0m\n\u001b[0;32m----> 1\u001b[0;31m \u001b[0mbest_alpha\u001b[0m \u001b[0;34m=\u001b[0m \u001b[0mmapped_ccps\u001b[0m\u001b[0;34m[\u001b[0m\u001b[0mnp\u001b[0m\u001b[0;34m.\u001b[0m\u001b[0margmax\u001b[0m\u001b[0;34m(\u001b[0m\u001b[0mavg_acc_per_fold\u001b[0m\u001b[0;34m)\u001b[0m\u001b[0;34m]\u001b[0m\u001b[0;34m\u001b[0m\u001b[0;34m\u001b[0m\u001b[0m\n\u001b[0m",
            "\u001b[0;31mIndexError\u001b[0m: list index out of range"
          ]
        }
      ],
      "source": [
        "best_alpha = mapped_ccps[np.argmax(avg_acc_per_fold)]"
      ]
    },
    {
      "cell_type": "code",
      "execution_count": null,
      "metadata": {
        "id": "Zl5qtg96dXJR"
      },
      "outputs": [],
      "source": []
    }
  ],
  "metadata": {
    "colab": {
      "provenance": []
    },
    "kernelspec": {
      "display_name": "Python 3",
      "name": "python3"
    },
    "language_info": {
      "name": "python"
    }
  },
  "nbformat": 4,
  "nbformat_minor": 0
}